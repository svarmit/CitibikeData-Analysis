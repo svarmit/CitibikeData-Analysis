{
 "cells": [
  {
   "cell_type": "code",
   "execution_count": 1,
   "metadata": {
    "collapsed": false
   },
   "outputs": [
    {
     "name": "stdout",
     "output_type": "stream",
     "text": [
      "Populating the interactive namespace from numpy and matplotlib\n"
     ]
    }
   ],
   "source": [
    "import numpy as np\n",
    "import pandas as pd\n",
    "import matplotlib.pyplot as plt\n",
    "import json\n",
    "import geopandas as gp\n",
    "import urllib2\n",
    "import pylab as pl\n",
    "import statsmodels.api as sm\n",
    "import statsmodels.formula.api as smf\n",
    "from statsmodels.graphics.api import abline_plot\n",
    "%pylab inline\n"
   ]
  },
  {
   "cell_type": "code",
   "execution_count": 2,
   "metadata": {
    "collapsed": true
   },
   "outputs": [],
   "source": [
    "# Reading the manhattan houses data using geopandas\n",
    "manhattan_data = gp.GeoDataFrame.from_file('Manhattan/MNMapPLUTO.shp')\n"
   ]
  },
  {
   "cell_type": "code",
   "execution_count": 3,
   "metadata": {
    "collapsed": false
   },
   "outputs": [],
   "source": [
    "#Reading the citibike May 2015 csv data  with geopandas\n",
    "citibike_may_df = gp.GeoDataFrame.from_csv('201505-citibike-tripdata.csv')\n",
    "\n",
    "#Reading the citibike December 2015 csv data  with geopandas\n",
    "citibike_dec_df = gp.GeoDataFrame.from_csv('201412-citibike-tripdata.csv')"
   ]
  },
  {
   "cell_type": "code",
   "execution_count": 4,
   "metadata": {
    "collapsed": false
   },
   "outputs": [],
   "source": [
    "# Getting the counts and the freequeny in the variables\n",
    "citibikeMayCount = citibike_may_df[\"start station id\"].value_counts() #Returns object containing counts of unique values.\n",
    "citibikeMayCount = citibikeMayCount.reset_index() # new DataFrame with labeling information in the columns under the index names, defaulting to ‘level_0’, ‘level_1’, etc\n",
    "citibikeDecCount = citibike_dec_df[\"start station id\"].value_counts() #Same as citibikeMayCount\n",
    "citibikeDecCount = citibikeDecCount.reset_index() # Same as citibikeMayCount\n"
   ]
  },
  {
   "cell_type": "code",
   "execution_count": 5,
   "metadata": {
    "collapsed": false
   },
   "outputs": [
    {
     "data": {
      "text/html": [
       "<div>\n",
       "<table border=\"1\" class=\"dataframe\">\n",
       "  <thead>\n",
       "    <tr style=\"text-align: right;\">\n",
       "      <th></th>\n",
       "      <th>index</th>\n",
       "      <th>0</th>\n",
       "    </tr>\n",
       "  </thead>\n",
       "  <tbody>\n",
       "    <tr>\n",
       "      <th>0</th>\n",
       "      <td>521</td>\n",
       "      <td>12988</td>\n",
       "    </tr>\n",
       "    <tr>\n",
       "      <th>1</th>\n",
       "      <td>519</td>\n",
       "      <td>10388</td>\n",
       "    </tr>\n",
       "    <tr>\n",
       "      <th>2</th>\n",
       "      <td>293</td>\n",
       "      <td>10265</td>\n",
       "    </tr>\n",
       "    <tr>\n",
       "      <th>3</th>\n",
       "      <td>426</td>\n",
       "      <td>9588</td>\n",
       "    </tr>\n",
       "    <tr>\n",
       "      <th>4</th>\n",
       "      <td>497</td>\n",
       "      <td>9469</td>\n",
       "    </tr>\n",
       "  </tbody>\n",
       "</table>\n",
       "</div>"
      ],
      "text/plain": [
       "   index      0\n",
       "0    521  12988\n",
       "1    519  10388\n",
       "2    293  10265\n",
       "3    426   9588\n",
       "4    497   9469"
      ]
     },
     "execution_count": 5,
     "metadata": {},
     "output_type": "execute_result"
    }
   ],
   "source": [
    "#Checking the value of 5 rows for May data \n",
    "citibikeMayCount.head(n=5)"
   ]
  },
  {
   "cell_type": "code",
   "execution_count": 6,
   "metadata": {
    "collapsed": false
   },
   "outputs": [
    {
     "data": {
      "text/html": [
       "<div>\n",
       "<table border=\"1\" class=\"dataframe\">\n",
       "  <thead>\n",
       "    <tr style=\"text-align: right;\">\n",
       "      <th></th>\n",
       "      <th>index</th>\n",
       "      <th>0</th>\n",
       "    </tr>\n",
       "  </thead>\n",
       "  <tbody>\n",
       "    <tr>\n",
       "      <th>0</th>\n",
       "      <td>521</td>\n",
       "      <td>6543</td>\n",
       "    </tr>\n",
       "    <tr>\n",
       "      <th>1</th>\n",
       "      <td>293</td>\n",
       "      <td>4501</td>\n",
       "    </tr>\n",
       "    <tr>\n",
       "      <th>2</th>\n",
       "      <td>318</td>\n",
       "      <td>4467</td>\n",
       "    </tr>\n",
       "    <tr>\n",
       "      <th>3</th>\n",
       "      <td>435</td>\n",
       "      <td>4031</td>\n",
       "    </tr>\n",
       "    <tr>\n",
       "      <th>4</th>\n",
       "      <td>519</td>\n",
       "      <td>3693</td>\n",
       "    </tr>\n",
       "  </tbody>\n",
       "</table>\n",
       "</div>"
      ],
      "text/plain": [
       "   index     0\n",
       "0    521  6543\n",
       "1    293  4501\n",
       "2    318  4467\n",
       "3    435  4031\n",
       "4    519  3693"
      ]
     },
     "execution_count": 6,
     "metadata": {},
     "output_type": "execute_result"
    }
   ],
   "source": [
    "#Checking the value of 5 rows for december data \n",
    "citibikeDecCount.head(n=5)"
   ]
  },
  {
   "cell_type": "code",
   "execution_count": 7,
   "metadata": {
    "collapsed": true
   },
   "outputs": [],
   "source": [
    "#Renaming the index and 0 for usage latter in code.\n",
    "citibikeMayCount = citibikeMayCount.rename(columns={'index':'stationId', 0:'stationCount'}) # Renaming column names\n",
    "#\n",
    "citibikeDecCount = citibikeDecCount.rename(columns={'index':'stationId', 0:'stationCount'}) # Renaming column names\n"
   ]
  },
  {
   "cell_type": "code",
   "execution_count": 8,
   "metadata": {
    "collapsed": false
   },
   "outputs": [
    {
     "data": {
      "text/html": [
       "<div>\n",
       "<table border=\"1\" class=\"dataframe\">\n",
       "  <thead>\n",
       "    <tr style=\"text-align: right;\">\n",
       "      <th></th>\n",
       "      <th>stationId</th>\n",
       "      <th>stationCount</th>\n",
       "    </tr>\n",
       "  </thead>\n",
       "  <tbody>\n",
       "    <tr>\n",
       "      <th>0</th>\n",
       "      <td>521</td>\n",
       "      <td>12988</td>\n",
       "    </tr>\n",
       "    <tr>\n",
       "      <th>1</th>\n",
       "      <td>519</td>\n",
       "      <td>10388</td>\n",
       "    </tr>\n",
       "  </tbody>\n",
       "</table>\n",
       "</div>"
      ],
      "text/plain": [
       "   stationId  stationCount\n",
       "0        521         12988\n",
       "1        519         10388"
      ]
     },
     "execution_count": 8,
     "metadata": {},
     "output_type": "execute_result"
    }
   ],
   "source": [
    "#Checking the value of 2 rows for May data \n",
    "citibikeMayCount.head(n=2)"
   ]
  },
  {
   "cell_type": "code",
   "execution_count": 9,
   "metadata": {
    "collapsed": false
   },
   "outputs": [
    {
     "data": {
      "text/html": [
       "<div>\n",
       "<table border=\"1\" class=\"dataframe\">\n",
       "  <thead>\n",
       "    <tr style=\"text-align: right;\">\n",
       "      <th></th>\n",
       "      <th>stationId</th>\n",
       "      <th>stationCount</th>\n",
       "    </tr>\n",
       "  </thead>\n",
       "  <tbody>\n",
       "    <tr>\n",
       "      <th>0</th>\n",
       "      <td>521</td>\n",
       "      <td>6543</td>\n",
       "    </tr>\n",
       "    <tr>\n",
       "      <th>1</th>\n",
       "      <td>293</td>\n",
       "      <td>4501</td>\n",
       "    </tr>\n",
       "  </tbody>\n",
       "</table>\n",
       "</div>"
      ],
      "text/plain": [
       "   stationId  stationCount\n",
       "0        521          6543\n",
       "1        293          4501"
      ]
     },
     "execution_count": 9,
     "metadata": {},
     "output_type": "execute_result"
    }
   ],
   "source": [
    "#Checking the value of 2 rows for December data \n",
    "citibikeDecCount.head(n=2)"
   ]
  },
  {
   "cell_type": "code",
   "execution_count": 10,
   "metadata": {
    "collapsed": false
   },
   "outputs": [
    {
     "data": {
      "text/html": [
       "<div>\n",
       "<table border=\"1\" class=\"dataframe\">\n",
       "  <thead>\n",
       "    <tr style=\"text-align: right;\">\n",
       "      <th></th>\n",
       "      <th>stationId</th>\n",
       "      <th>stationCount</th>\n",
       "    </tr>\n",
       "  </thead>\n",
       "  <tbody>\n",
       "    <tr>\n",
       "      <th>0</th>\n",
       "      <td>521</td>\n",
       "      <td>12988</td>\n",
       "    </tr>\n",
       "    <tr>\n",
       "      <th>1</th>\n",
       "      <td>519</td>\n",
       "      <td>10388</td>\n",
       "    </tr>\n",
       "    <tr>\n",
       "      <th>2</th>\n",
       "      <td>293</td>\n",
       "      <td>10265</td>\n",
       "    </tr>\n",
       "  </tbody>\n",
       "</table>\n",
       "</div>"
      ],
      "text/plain": [
       "   stationId  stationCount\n",
       "0        521         12988\n",
       "1        519         10388\n",
       "2        293         10265"
      ]
     },
     "execution_count": 10,
     "metadata": {},
     "output_type": "execute_result"
    }
   ],
   "source": [
    "#Concatinating both the citibike datas using Pandas standard concat function\n",
    "frames = [citibikeMayCount,citibikeDecCount] #Preparing frames for concatination\n",
    "citibike_data = pd.concat(frames) # Concatinating the 2 data sets\n",
    "citibike_data.head(n=3)"
   ]
  },
  {
   "cell_type": "code",
   "execution_count": 11,
   "metadata": {
    "collapsed": false
   },
   "outputs": [
    {
     "name": "stdout",
     "output_type": "stream",
     "text": [
      "   stationId  stationCount\n",
      "0         72          3793\n",
      "1         79          3353\n",
      "2         82          1538\n",
      "3         83          1458\n",
      "4        116          4396\n",
      "332\n"
     ]
    }
   ],
   "source": [
    "#Sum up the common station id's if any\n",
    "uniq_citibike_data = citibike_data['stationCount'].groupby(citibike_data['stationId']).agg(np.sum) # Using groupby function of pandas\n",
    "uniq_citibike_data = uniq_citibike_data.reset_index() \n",
    "uniq_citibike_data = uniq_citibike_data.rename(columns={'index':'stationId', 0:'stationCount'}) \n",
    "print (uniq_citibike_data.head(n=5))\n",
    "print len(uniq_citibike_data)"
   ]
  },
  {
   "cell_type": "code",
   "execution_count": 12,
   "metadata": {
    "collapsed": false
   },
   "outputs": [],
   "source": [
    "#Reading the Json data from the given url and putting in the dictionary type variable\n",
    "json_data = []\n",
    "url = 'http://cosmo.nyu.edu/~fb55/UI_CUSP_2015/data/stationzips.json'\n",
    "request = urllib2.urlopen(url)\n",
    "json_data = json.loads(request.read())\n",
    "#json_data"
   ]
  },
  {
   "cell_type": "code",
   "execution_count": 13,
   "metadata": {
    "collapsed": false
   },
   "outputs": [
    {
     "name": "stdout",
     "output_type": "stream",
     "text": [
      "before convert--> object\n",
      "after convert --> float64\n"
     ]
    }
   ],
   "source": [
    "#Converting Json data to Pandas Data Frame\n",
    "stat_zip_data = pd.DataFrame(json_data.items(),columns=['stationId','zip'])\n",
    "print 'before convert-->',(stat_zip_data['stationId'].dtype)\n",
    "stat_zip_data['stationId'] = (stat_zip_data['stationId']).astype(float)\n",
    "print 'after convert -->',(stat_zip_data['stationId'].dtype)\n"
   ]
  },
  {
   "cell_type": "code",
   "execution_count": 14,
   "metadata": {
    "collapsed": false
   },
   "outputs": [
    {
     "name": "stdout",
     "output_type": "stream",
     "text": [
      "<class 'pandas.core.frame.DataFrame'>\n",
      "Int64Index: 332 entries, 0 to 331\n",
      "Data columns (total 3 columns):\n",
      "stationId       332 non-null float64\n",
      "stationCount    332 non-null int64\n",
      "zip             331 non-null float64\n",
      "dtypes: float64(2), int64(1)\n",
      "memory usage: 10.4 KB\n",
      "None\n"
     ]
    }
   ],
   "source": [
    "#Merging the JSON data and the manipulated Citibike data of May and december\n",
    "uniq_citibike_data['stationId'] = (uniq_citibike_data['stationId']).astype(float) # Converting the data to float to merge with float json data\n",
    "citibike_zip_data = pd.merge(uniq_citibike_data,stat_zip_data,how='inner',on='stationId') #Merging the data with inner join on stationID\n",
    "print citibike_zip_data.info()"
   ]
  },
  {
   "cell_type": "code",
   "execution_count": 16,
   "metadata": {
    "collapsed": false
   },
   "outputs": [
    {
     "data": {
      "text/html": [
       "<div>\n",
       "<table border=\"1\" class=\"dataframe\">\n",
       "  <thead>\n",
       "    <tr style=\"text-align: right;\">\n",
       "      <th></th>\n",
       "      <th>stationId</th>\n",
       "      <th>stationCount</th>\n",
       "      <th>zip</th>\n",
       "    </tr>\n",
       "  </thead>\n",
       "  <tbody>\n",
       "    <tr>\n",
       "      <th>0</th>\n",
       "      <td>72</td>\n",
       "      <td>3793</td>\n",
       "      <td>10019</td>\n",
       "    </tr>\n",
       "    <tr>\n",
       "      <th>1</th>\n",
       "      <td>79</td>\n",
       "      <td>3353</td>\n",
       "      <td>10013</td>\n",
       "    </tr>\n",
       "    <tr>\n",
       "      <th>2</th>\n",
       "      <td>82</td>\n",
       "      <td>1538</td>\n",
       "      <td>10038</td>\n",
       "    </tr>\n",
       "    <tr>\n",
       "      <th>3</th>\n",
       "      <td>83</td>\n",
       "      <td>1458</td>\n",
       "      <td>11217</td>\n",
       "    </tr>\n",
       "    <tr>\n",
       "      <th>4</th>\n",
       "      <td>116</td>\n",
       "      <td>4396</td>\n",
       "      <td>10011</td>\n",
       "    </tr>\n",
       "  </tbody>\n",
       "</table>\n",
       "</div>"
      ],
      "text/plain": [
       "   stationId  stationCount    zip\n",
       "0         72          3793  10019\n",
       "1         79          3353  10013\n",
       "2         82          1538  10038\n",
       "3         83          1458  11217\n",
       "4        116          4396  10011"
      ]
     },
     "execution_count": 16,
     "metadata": {},
     "output_type": "execute_result"
    }
   ],
   "source": [
    "#Just to see the data \n",
    "citibike_zip_data.head(n=5)"
   ]
  },
  {
   "cell_type": "code",
   "execution_count": 17,
   "metadata": {
    "collapsed": false
   },
   "outputs": [
    {
     "name": "stdout",
     "output_type": "stream",
     "text": [
      "1\n"
     ]
    }
   ],
   "source": [
    "#To see how my data looks like\n",
    "citibike_zip_data.head(n=5)\n",
    "count =0\n",
    "for i in citibike_zip_data['zip']:\n",
    "    if i == 83:\n",
    "        count +=1\n",
    "print count\n"
   ]
  },
  {
   "cell_type": "code",
   "execution_count": 18,
   "metadata": {
    "collapsed": false,
    "scrolled": false
   },
   "outputs": [
    {
     "name": "stdout",
     "output_type": "stream",
     "text": [
      "      zip  stationCount\n",
      "0      83          8445\n",
      "1   10001        107096\n",
      "2   10002         78867\n",
      "3   10003        150693\n",
      "4   10004         13493\n",
      "5   10005         17921\n",
      "6   10007         34654\n",
      "7   10009         66838\n",
      "8   10010         50815\n",
      "9   10011        113756\n",
      "10  10012         57230\n",
      "11  10013         63772\n",
      "12  10014         87009\n",
      "13  10016         81935\n",
      "14  10017         54317\n",
      "15  10018         42032\n",
      "16  10019         85573\n",
      "17  10022         35663\n",
      "18  10023         10371\n",
      "19  10036         53348\n",
      "20  10038         21030\n",
      "21  10280          9119\n",
      "22  10281          1651\n",
      "23  10282          9730\n",
      "24  11201         48851\n",
      "25  11205         15777\n",
      "26  11211         17314\n",
      "27  11216          2057\n",
      "28  11217         11090\n",
      "29  11220             6\n",
      "30  11238          6071\n",
      "31  11251          1038\n"
     ]
    }
   ],
   "source": [
    "# Adding the station counts for each zip\n",
    "group_citibike_zip = citibike_zip_data['stationCount'].groupby(citibike_zip_data['zip']).agg(np.sum)\n",
    "group_citibike_zip = group_citibike_zip.reset_index()\n",
    "print group_citibike_zip\n",
    "#group_citibike_zip"
   ]
  },
  {
   "cell_type": "code",
   "execution_count": 19,
   "metadata": {
    "collapsed": false
   },
   "outputs": [
    {
     "data": {
      "text/plain": [
       "Index([    u'APPBBL',    u'APPDate',    u'Address', u'AllZoning1',\n",
       "       u'AllZoning2', u'AreaSource', u'AssessLand',  u'AssessTot',\n",
       "              u'BBL',   u'BldgArea',  u'BldgClass',  u'BldgDepth',\n",
       "        u'BldgFront',      u'Block',   u'BoroCode',    u'Borough',\n",
       "         u'BsmtCode',  u'BuiltCode',   u'BuiltFAR',     u'CB2010',\n",
       "               u'CD',     u'CT2010',    u'ComArea',    u'CommFAR',\n",
       "          u'CondoNo',    u'Council',  u'EDesigNum',  u'Easements',\n",
       "       u'ExemptLand',  u'ExemptTot',        u'Ext',   u'FacilFAR',\n",
       "       u'FactryArea',   u'FireComp', u'GarageArea', u'HealthArea',\n",
       "         u'HistDist', u'IrrLotCode',    u'LandUse',   u'Landmark',\n",
       "              u'Lot',    u'LotArea',   u'LotDepth',   u'LotFront',\n",
       "          u'LotType',  u'LtdHeight', u'MAPPLUTO_F',   u'NumBldgs',\n",
       "        u'NumFloors', u'OfficeArea',  u'OtherArea',   u'Overlay1',\n",
       "         u'Overlay2',  u'OwnerName',  u'OwnerType', u'PLUTOMapID',\n",
       "       u'PolicePrct',   u'ProxCode',    u'ResArea',   u'ResidFAR',\n",
       "       u'RetailArea', u'SHAPE_Area', u'SHAPE_Leng',    u'SPDist1',\n",
       "          u'SPDist2',    u'Sanborn', u'SchoolDist',  u'SplitZone',\n",
       "        u'StrgeArea',     u'TaxMap',  u'Tract2010',   u'UnitsRes',\n",
       "       u'UnitsTotal',    u'Version',     u'XCoord',     u'YCoord',\n",
       "       u'YearAlter1', u'YearAlter2',  u'YearBuilt',     u'ZMCode',\n",
       "          u'ZipCode',  u'ZoneDist1',  u'ZoneDist2',  u'ZoneDist3',\n",
       "        u'ZoneDist4',    u'ZoneMap',   u'geometry'],\n",
       "      dtype='object')"
      ]
     },
     "execution_count": 19,
     "metadata": {},
     "output_type": "execute_result"
    }
   ],
   "source": [
    "# To see all the columns of the manhattan data\n",
    "manhattan_data.columns"
   ]
  },
  {
   "cell_type": "code",
   "execution_count": 20,
   "metadata": {
    "collapsed": false
   },
   "outputs": [
    {
     "name": "stdout",
     "output_type": "stream",
     "text": [
      "float64\n"
     ]
    },
    {
     "data": {
      "text/html": [
       "<div>\n",
       "<table border=\"1\" class=\"dataframe\">\n",
       "  <thead>\n",
       "    <tr style=\"text-align: right;\">\n",
       "      <th></th>\n",
       "      <th>zip</th>\n",
       "      <th>UnitsTotal</th>\n",
       "    </tr>\n",
       "  </thead>\n",
       "  <tbody>\n",
       "    <tr>\n",
       "      <th>0</th>\n",
       "      <td>0</td>\n",
       "      <td>2</td>\n",
       "    </tr>\n",
       "    <tr>\n",
       "      <th>1</th>\n",
       "      <td>10001</td>\n",
       "      <td>30253</td>\n",
       "    </tr>\n",
       "    <tr>\n",
       "      <th>2</th>\n",
       "      <td>10002</td>\n",
       "      <td>40627</td>\n",
       "    </tr>\n",
       "  </tbody>\n",
       "</table>\n",
       "</div>"
      ],
      "text/plain": [
       "     zip  UnitsTotal\n",
       "0      0           2\n",
       "1  10001       30253\n",
       "2  10002       40627"
      ]
     },
     "execution_count": 20,
     "metadata": {},
     "output_type": "execute_result"
    }
   ],
   "source": [
    "#Simmilarly grouping the sum of the Manhattan units in the zip code\n",
    "manhattan_data_zip = manhattan_data['UnitsTotal'].groupby(manhattan_data['ZipCode']).agg(np.sum)\n",
    "manhattan_data_zip = manhattan_data_zip.reset_index()\n",
    "manhattan_data_zip = manhattan_data_zip.rename(columns={'ZipCode':'zip', 0:'stationCount'})\n",
    "#manhattan_data_zip['zip']= manhattan_data_zip['ZipCode'] # Changing the name to zip this will be useful while merging\n",
    "manhattan_data_zip['zip'] = (manhattan_data_zip['zip']).astype(float) #Converting to float as zip in citibike is float\n",
    "print manhattan_data_zip['zip'].dtype\n",
    "manhattan_data_zip.head(n=3)"
   ]
  },
  {
   "cell_type": "code",
   "execution_count": 21,
   "metadata": {
    "collapsed": false
   },
   "outputs": [
    {
     "data": {
      "text/html": [
       "<div>\n",
       "<table border=\"1\" class=\"dataframe\">\n",
       "  <thead>\n",
       "    <tr style=\"text-align: right;\">\n",
       "      <th></th>\n",
       "      <th>zip</th>\n",
       "      <th>UnitsTotal</th>\n",
       "      <th>stationCount</th>\n",
       "    </tr>\n",
       "  </thead>\n",
       "  <tbody>\n",
       "    <tr>\n",
       "      <th>0</th>\n",
       "      <td>10001</td>\n",
       "      <td>30253</td>\n",
       "      <td>107096</td>\n",
       "    </tr>\n",
       "    <tr>\n",
       "      <th>1</th>\n",
       "      <td>10002</td>\n",
       "      <td>40627</td>\n",
       "      <td>78867</td>\n",
       "    </tr>\n",
       "    <tr>\n",
       "      <th>2</th>\n",
       "      <td>10003</td>\n",
       "      <td>38201</td>\n",
       "      <td>150693</td>\n",
       "    </tr>\n",
       "    <tr>\n",
       "      <th>3</th>\n",
       "      <td>10004</td>\n",
       "      <td>3203</td>\n",
       "      <td>13493</td>\n",
       "    </tr>\n",
       "    <tr>\n",
       "      <th>4</th>\n",
       "      <td>10005</td>\n",
       "      <td>7041</td>\n",
       "      <td>17921</td>\n",
       "    </tr>\n",
       "  </tbody>\n",
       "</table>\n",
       "</div>"
      ],
      "text/plain": [
       "     zip  UnitsTotal  stationCount\n",
       "0  10001       30253        107096\n",
       "1  10002       40627         78867\n",
       "2  10003       38201        150693\n",
       "3  10004        3203         13493\n",
       "4  10005        7041         17921"
      ]
     },
     "execution_count": 21,
     "metadata": {},
     "output_type": "execute_result"
    }
   ],
   "source": [
    "# Merging the station rides of citibike and the Total units of the manhattan in single data frame using inner join on the column zip.\n",
    "units_stations_zipData = pd.merge(manhattan_data_zip, group_citibike_zip, how ='inner',on='zip')\n",
    "units_stations_zipData.head(n=5)"
   ]
  },
  {
   "cell_type": "code",
   "execution_count": 22,
   "metadata": {
    "collapsed": true
   },
   "outputs": [],
   "source": [
    "# Till now I have a data sets(dataframe) with the total units per zip code and total station count per zip code\n",
    "#StationCpunt reffers to the total number of rides originating from the zip code\n",
    "#UnitsTotal reffers to total number of units (units in each building if a building has more than 1 unit)"
   ]
  },
  {
   "cell_type": "markdown",
   "metadata": {},
   "source": [
    "#####1) Fit BOTH a first and second degree linear model (a line and a parabola) to the number of rides per zip code (this is your dependent variable) as a function of number of Residential Units in that zip code (this is your independent variable).\n",
    "\n",
    "###Starting the statestical analysis \n"
   ]
  },
  {
   "cell_type": "markdown",
   "metadata": {},
   "source": [
    "#### 1) Scatter plot the data for visual inspection"
   ]
  },
  {
   "cell_type": "code",
   "execution_count": 23,
   "metadata": {
    "collapsed": false
   },
   "outputs": [
    {
     "data": {
      "text/plain": [
       "<matplotlib.text.Text at 0x101133210>"
      ]
     },
     "execution_count": 23,
     "metadata": {},
     "output_type": "execute_result"
    },
    {
     "data": {
      "image/png": "[encoded data removed]",
      "text/plain": [
       "<matplotlib.figure.Figure at 0x103bd7510>"
      ]
     },
     "metadata": {},
     "output_type": "display_data"
    }
   ],
   "source": [
    "#Plotting the data with the outliers and zip code =0\n",
    "plt.figure(figsize=(10, 10))\n",
    "plt.scatter(units_stations_zipData['UnitsTotal'],units_stations_zipData['stationCount'],s=45,c='red')\n",
    "plt.title('Freequency of total rides vs the total units')\n",
    "plt.ylabel('Freequency of Citibike Start Stations per zip')\n",
    "plt.xlabel('Number of Residence per zip')\n",
    "#plt.bar(mynewdf['start station id'],mynewdf['UnitsRes'])\n"
   ]
  },
  {
   "cell_type": "markdown",
   "metadata": {},
   "source": [
    "#### 2) Applying Ordinary least squares (ols) using statsmodels.formula.api (Linear) and plotting against above scatter plot"
   ]
  },
  {
   "cell_type": "code",
   "execution_count": 24,
   "metadata": {
    "collapsed": false
   },
   "outputs": [
    {
     "name": "stdout",
     "output_type": "stream",
     "text": [
      "                            OLS Regression Results                            \n",
      "==============================================================================\n",
      "Dep. Variable:           stationCount   R-squared:                       0.460\n",
      "Model:                            OLS   Adj. R-squared:                  0.434\n",
      "Method:                 Least Squares   F-statistic:                     17.87\n",
      "Date:                Mon, 26 Oct 2015   Prob (F-statistic):           0.000378\n",
      "Time:                        14:18:44   Log-Likelihood:                -268.03\n",
      "No. Observations:                  23   AIC:                             540.1\n",
      "Df Residuals:                      21   BIC:                             542.3\n",
      "Df Model:                           1                                         \n",
      "Covariance Type:            nonrobust                                         \n",
      "==============================================================================\n",
      "                 coef    std err          t      P>|t|      [95.0% Conf. Int.]\n",
      "------------------------------------------------------------------------------\n",
      "Intercept   1.253e+04   1.16e+04      1.081      0.292     -1.16e+04  3.66e+04\n",
      "UnitsTotal     1.7757      0.420      4.227      0.000         0.902     2.649\n",
      "==============================================================================\n",
      "Omnibus:                        5.385   Durbin-Watson:                   1.490\n",
      "Prob(Omnibus):                  0.068   Jarque-Bera (JB):                4.766\n",
      "Skew:                          -0.174   Prob(JB):                       0.0923\n",
      "Kurtosis:                       5.203   Cond. No.                     5.26e+04\n",
      "==============================================================================\n",
      "\n",
      "Warnings:\n",
      "[1] Standard Errors assume that the covariance matrix of the errors is correctly specified.\n",
      "[2] The condition number is large, 5.26e+04. This might indicate that there are\n",
      "strong multicollinearity or other numerical problems.\n"
     ]
    }
   ],
   "source": [
    "linModel = smf.ols(formula = 'stationCount ~ UnitsTotal', data = units_stations_zipData).fit()\n",
    "print linModel.summary()\n",
    "x=units_stations_zipData.UnitsTotal\n",
    "y=units_stations_zipData.stationCount"
   ]
  },
  {
   "cell_type": "code",
   "execution_count": 25,
   "metadata": {
    "collapsed": false
   },
   "outputs": [
    {
     "data": {
      "text/plain": [
       "<matplotlib.legend.Legend at 0x132e712d0>"
      ]
     },
     "execution_count": 25,
     "metadata": {},
     "output_type": "execute_result"
    },
    {
     "data": {
      "image/png": "[encoded data removed]",
      "text/plain": [
       "<matplotlib.figure.Figure at 0x1013ad250>"
      ]
     },
     "metadata": {},
     "output_type": "display_data"
    }
   ],
   "source": [
    "#Fitting the best line using abline_plot and plotting using pylab (instead of matplotlib as done above)\n",
    "\n",
    "figure, ax = pl.subplots(figsize=(8,8))\n",
    "ax.scatter(x, y,s=45, c='r')\n",
    "# Plot regression line\n",
    "abline_plot(model_results=linModel, c='b', ax=ax,label='Linear Reg Line')\n",
    "pl.title('Freequency of total rides vs the total units (OLS)')\n",
    "pl.ylabel('Freequency of Citibike Start Stations per zip')\n",
    "pl.xlabel('Number of Residence per zip')\n",
    "\n",
    "plt.legend()"
   ]
  },
  {
   "cell_type": "markdown",
   "metadata": {},
   "source": [
    "#### 2) Applying Ordinary least squares (ols) using statsmodels.formula.api (Polynomial) and plotting against above scatter plot"
   ]
  },
  {
   "cell_type": "code",
   "execution_count": 26,
   "metadata": {
    "collapsed": false
   },
   "outputs": [
    {
     "name": "stdout",
     "output_type": "stream",
     "text": [
      "                            OLS Regression Results                            \n",
      "==============================================================================\n",
      "Dep. Variable:           stationCount   R-squared:                       0.515\n",
      "Model:                            OLS   Adj. R-squared:                  0.467\n",
      "Method:                 Least Squares   F-statistic:                     10.62\n",
      "Date:                Mon, 26 Oct 2015   Prob (F-statistic):           0.000719\n",
      "Time:                        14:18:47   Log-Likelihood:                -266.78\n",
      "No. Observations:                  23   AIC:                             539.6\n",
      "Df Residuals:                      20   BIC:                             543.0\n",
      "Df Model:                           2                                         \n",
      "Covariance Type:            nonrobust                                         \n",
      "========================================================================================\n",
      "                           coef    std err          t      P>|t|      [95.0% Conf. Int.]\n",
      "----------------------------------------------------------------------------------------\n",
      "Intercept            -3384.4154   1.54e+04     -0.220      0.828     -3.55e+04  2.87e+04\n",
      "UnitsTotal               4.1108      1.598      2.573      0.018         0.778     7.444\n",
      "I(UnitsTotal ** 2.0) -5.117e-05   3.39e-05     -1.511      0.146        -0.000  1.95e-05\n",
      "==============================================================================\n",
      "Omnibus:                        4.499   Durbin-Watson:                   1.396\n",
      "Prob(Omnibus):                  0.105   Jarque-Bera (JB):                3.363\n",
      "Skew:                           0.121   Prob(JB):                        0.186\n",
      "Kurtosis:                       4.858   Cond. No.                     2.67e+09\n",
      "==============================================================================\n",
      "\n",
      "Warnings:\n",
      "[1] Standard Errors assume that the covariance matrix of the errors is correctly specified.\n",
      "[2] The condition number is large, 2.67e+09. This might indicate that there are\n",
      "strong multicollinearity or other numerical problems.\n"
     ]
    }
   ],
   "source": [
    "# creating the model to fit the polynomial regression\n",
    "polModel = smf.ols(formula = 'stationCount ~ 1 + UnitsTotal + I(UnitsTotal ** 2.0)',missing='drop', data =units_stations_zipData).fit()\n",
    "print polModel.summary()"
   ]
  },
  {
   "cell_type": "code",
   "execution_count": null,
   "metadata": {
    "collapsed": false
   },
   "outputs": [],
   "source": []
  },
  {
   "cell_type": "code",
   "execution_count": 27,
   "metadata": {
    "collapsed": false
   },
   "outputs": [
    {
     "name": "stdout",
     "output_type": "stream",
     "text": [
      "<type 'numpy.ndarray'>\n"
     ]
    },
    {
     "data": {
      "text/plain": [
       "<matplotlib.legend.Legend at 0x133649590>"
      ]
     },
     "execution_count": 27,
     "metadata": {},
     "output_type": "execute_result"
    },
    {
     "data": {
      "image/png": "[encoded data removed]",
      "text/plain": [
       "<matplotlib.figure.Figure at 0x132e46fd0>"
      ]
     },
     "metadata": {},
     "output_type": "display_data"
    }
   ],
   "source": [
    "\n",
    "\n",
    "pl.figure(figsize=(8, 8))\n",
    "pl.scatter(x, y,s=45,c='r')\n",
    "x_axis = np.linspace(min(units_stations_zipData.UnitsTotal),max(units_stations_zipData.UnitsTotal),10)\n",
    "#print type(x_axis)\n",
    "#Convertin the numpy.ndarray to pandas data frame to handle the error :::only integers, slices (`:`), ellipsis (`...`), numpy.newaxis (`None`) and integer or boolean arrays are valid indices\n",
    "\n",
    "x_axis = pd.DataFrame({'UnitsTotal':np.linspace(min(units_stations_zipData.UnitsTotal),max(units_stations_zipData.UnitsTotal),10)})\n",
    "print type(polModel.predict(x_axis))\n",
    "pl.plot(x_axis, polModel.predict(x_axis),c='g',label='Polynomial Reg curve')\n",
    "pl.title('Freequency of total rides vs the total units (OLS)')\n",
    "pl.ylabel('Freequency of Citibike Start Stations per zip')\n",
    "pl.xlabel('Number of Residence per zip')\n",
    "pl.legend()"
   ]
  },
  {
   "cell_type": "markdown",
   "metadata": {},
   "source": [
    "3) Compare you regression with a 1-degree polynomial to your regression with a 2-degree polynomial and test (with the appropriate statistical test) which is better."
   ]
  },
  {
   "cell_type": "markdown",
   "metadata": {},
   "source": [
    "##Applying Likelihood Ratio Tests\n",
    "###In statistics, a likelihood ratio test is a statistical test used to compare the goodness of fit of two models, one of which (the null model) is a special case of the other (the alternative model)."
   ]
  },
  {
   "cell_type": "markdown",
   "metadata": {},
   "source": [
    "######Interpretation : Source: https://en.wikipedia.org/wiki/Likelihood-ratio_test\n",
    "The model with more parameters will always fit at least as well (have an equal or greater log-likelihood). Whether it fits significantly better and should thus be preferred is determined by deriving the probability or p-value of the difference D. Where the null hypothesis represents a special case of the alternative hypothesis, the probability distribution of the test statistic is approximately a chi-squared distribution with degrees of freedom equal to df2 − df1 .Symbols df1 and df2 represent the number of free parameters of models 1 and 2, the null model and the alternative model, respectively.\n",
    "Please go through this wikipedia link, it has got simple explanation\n",
    "\n",
    "\n",
    "log-likelihood ratio statistic = statistic compared from both the models\n",
    "\n",
    "![alt text](https://upload.wikimedia.org/math/2/2/9/229b472081ce3580881cf29b4e376ef3.png)\n"
   ]
  },
  {
   "cell_type": "code",
   "execution_count": 28,
   "metadata": {
    "collapsed": false
   },
   "outputs": [
    {
     "name": "stdout",
     "output_type": "stream",
     "text": [
      "Second number is P-Value:  (2.4872839740182826, 0.11476963155447581, 1.0)\n",
      "LR :  2.48728397402\n",
      "Value of D : 2.5\n"
     ]
    }
   ],
   "source": [
    "# I am using the log-likelihood ratio statistic to figure out which fit is better , simple linear regression of the polynomial fit \n",
    "# Null hypothesis: Simple Linear fit is better\n",
    "# Alternate hypothesis : Polynomial/quaderatic fit is better\n",
    "\n",
    "#Applying the log test using 3 methods. \n",
    "    #1) using standard compare_lr_tests\n",
    "    #2) doing mathematicaly \n",
    "    #3) manually putting values from the summary table\n",
    "# 1 method\n",
    "polModel.compare_lr_test(linModel) # p-value = 0.11476963155447581 \n",
    "print 'Second number is P-Value: ',polModel.compare_lr_test(linModel)\n",
    "# 2 method\n",
    "print \"LR : \", -2 * (linModel.llf - (polModel.llf))\n",
    "\n",
    "# 3 method Using standard formula(mentioned above)\n",
    "D = -2 * (-268.03) + 2 * (-266.78)\n",
    "print 'Value of D :',D\n",
    "\n"
   ]
  },
  {
   "cell_type": "markdown",
   "metadata": {},
   "source": [
    "##Inference of the values obtained in above step.\n",
    "\n",
    "####Null hypothesis: Simple Linear fit is better ,   Alternate hypothesis : Polynomial/quaderatic fit is better\n",
    "\n",
    "####The value LR  needs to be compared with the critical value for chi2 with 1 degree of freedom at alpha = 0.05  and that value is 3.84\n",
    "\n",
    "####Null hypothesis is rejected if the LR> critical value(3.84)\n",
    "\n",
    "####In this case the LR is smaller than the critical value so we fail to reject null hypothesis.\n",
    "\n",
    "###Hence Linear model  is better than the Polynomial model .\n"
   ]
  },
  {
   "cell_type": "markdown",
   "metadata": {
    "collapsed": true
   },
   "source": [
    "4) Since points at the edge of the x range have a lot of \"leverage\" (have a large influence on your test) if you find that there are suspicious points at the limit of the independent variable that could be outliers make cuts that remove those points and redo the fits with the 1- and 2-degree polynomial, and test which is better as you did before with a statistical test"
   ]
  },
  {
   "cell_type": "markdown",
   "metadata": {},
   "source": [
    "##Without Outliers"
   ]
  },
  {
   "cell_type": "code",
   "execution_count": 29,
   "metadata": {
    "collapsed": false
   },
   "outputs": [],
   "source": [
    "# Removing the outlier by removing the data \n",
    "withoutOutlierData = units_stations_zipData[(units_stations_zipData['UnitsTotal'] > 0) \n",
    "                                            & (units_stations_zipData['UnitsTotal'] < 40000) \n",
    "                                            & (units_stations_zipData['stationCount'] < 100000)]\n",
    "\n"
   ]
  },
  {
   "cell_type": "code",
   "execution_count": 30,
   "metadata": {
    "collapsed": false
   },
   "outputs": [
    {
     "data": {
      "text/plain": [
       "<matplotlib.text.Text at 0x133664250>"
      ]
     },
     "execution_count": 30,
     "metadata": {},
     "output_type": "execute_result"
    },
    {
     "data": {
      "image/png": "[encoded data removed]",
      "text/plain": [
       "<matplotlib.figure.Figure at 0x1013df0d0>"
      ]
     },
     "metadata": {},
     "output_type": "display_data"
    }
   ],
   "source": [
    "#Scatter plot of the data without outliers\n",
    "\n",
    "plt.figure(figsize=(10, 10))\n",
    "plt.scatter(withoutOutlierData['UnitsTotal'],withoutOutlierData['stationCount'],s=45,c='red')\n",
    "plt.title('Freequency of total rides vs the total units Without Outliers')\n",
    "plt.ylabel('Freequency of Citibike Start Stations per zip')\n",
    "plt.xlabel('Number of Residence per zip')\n",
    "#plt.bar(mynewdf['start station id'],mynewdf['UnitsRes'])\n"
   ]
  },
  {
   "cell_type": "code",
   "execution_count": 31,
   "metadata": {
    "collapsed": false
   },
   "outputs": [
    {
     "name": "stdout",
     "output_type": "stream",
     "text": [
      "                            OLS Regression Results                            \n",
      "==============================================================================\n",
      "Dep. Variable:           stationCount   R-squared:                       0.622\n",
      "Model:                            OLS   Adj. R-squared:                  0.595\n",
      "Method:                 Least Squares   F-statistic:                     23.06\n",
      "Date:                Mon, 26 Oct 2015   Prob (F-statistic):           0.000281\n",
      "Time:                        14:18:57   Log-Likelihood:                -176.28\n",
      "No. Observations:                  16   AIC:                             356.6\n",
      "Df Residuals:                      14   BIC:                             358.1\n",
      "Df Model:                           1                                         \n",
      "Covariance Type:            nonrobust                                         \n",
      "==============================================================================\n",
      "                 coef    std err          t      P>|t|      [95.0% Conf. Int.]\n",
      "------------------------------------------------------------------------------\n",
      "Intercept   1.054e+04   7058.418      1.493      0.158     -4599.952  2.57e+04\n",
      "UnitsTotal     1.7303      0.360      4.802      0.000         0.958     2.503\n",
      "==============================================================================\n",
      "Omnibus:                        1.200   Durbin-Watson:                   1.053\n",
      "Prob(Omnibus):                  0.549   Jarque-Bera (JB):                0.209\n",
      "Skew:                           0.240   Prob(JB):                        0.901\n",
      "Kurtosis:                       3.289   Cond. No.                     3.51e+04\n",
      "==============================================================================\n",
      "\n",
      "Warnings:\n",
      "[1] Standard Errors assume that the covariance matrix of the errors is correctly specified.\n",
      "[2] The condition number is large, 3.51e+04. This might indicate that there are\n",
      "strong multicollinearity or other numerical problems.\n"
     ]
    },
    {
     "name": "stderr",
     "output_type": "stream",
     "text": [
      "/Users/svarmit/anaconda/lib/python2.7/site-packages/scipy/stats/stats.py:1233: UserWarning: kurtosistest only valid for n>=20 ... continuing anyway, n=16\n",
      "  int(n))\n"
     ]
    }
   ],
   "source": [
    "linModel2 = smf.ols(formula = 'stationCount ~ UnitsTotal', data = withoutOutlierData).fit()\n",
    "print linModel2.summary()\n",
    "x=withoutOutlierData.UnitsTotal\n",
    "y=withoutOutlierData.stationCount"
   ]
  },
  {
   "cell_type": "code",
   "execution_count": 32,
   "metadata": {
    "collapsed": false
   },
   "outputs": [
    {
     "data": {
      "text/plain": [
       "<matplotlib.legend.Legend at 0x1340709d0>"
      ]
     },
     "execution_count": 32,
     "metadata": {},
     "output_type": "execute_result"
    },
    {
     "data": {
      "image/png": "[encoded data removed]",
      "text/plain": [
       "<matplotlib.figure.Figure at 0x13709e050>"
      ]
     },
     "metadata": {},
     "output_type": "display_data"
    }
   ],
   "source": [
    "#Fitting the best line using abline_plot and plotting using pylab (instead of matplotlib as done above)\n",
    "\n",
    "figure, ax = pl.subplots(figsize=(8,8))\n",
    "ax.scatter(x, y,s=45, c='r')\n",
    "# Plot regression line\n",
    "abline_plot(model_results=linModel2, c='b', ax=ax,label='Linear Reg Line')\n",
    "pl.title('Freequency of total rides vs the total units (OLS) Without Outliers')\n",
    "pl.ylabel('Freequency of Citibike Start Stations per zip')\n",
    "pl.xlabel('Number of Residence per zip')\n",
    "\n",
    "plt.legend()"
   ]
  },
  {
   "cell_type": "code",
   "execution_count": 33,
   "metadata": {
    "collapsed": false
   },
   "outputs": [
    {
     "name": "stdout",
     "output_type": "stream",
     "text": [
      "                            OLS Regression Results                            \n",
      "==============================================================================\n",
      "Dep. Variable:           stationCount   R-squared:                       0.723\n",
      "Model:                            OLS   Adj. R-squared:                  0.680\n",
      "Method:                 Least Squares   F-statistic:                     16.96\n",
      "Date:                Mon, 26 Oct 2015   Prob (F-statistic):           0.000238\n",
      "Time:                        14:19:00   Log-Likelihood:                -173.80\n",
      "No. Observations:                  16   AIC:                             353.6\n",
      "Df Residuals:                      13   BIC:                             355.9\n",
      "Df Model:                           2                                         \n",
      "Covariance Type:            nonrobust                                         \n",
      "========================================================================================\n",
      "                           coef    std err          t      P>|t|      [95.0% Conf. Int.]\n",
      "----------------------------------------------------------------------------------------\n",
      "Intercept            -1887.8772   8488.967     -0.222      0.827     -2.02e+04  1.65e+04\n",
      "UnitsTotal               4.2640      1.209      3.526      0.004         1.652     6.876\n",
      "I(UnitsTotal ** 2.0) -7.493e-05   3.45e-05     -2.173      0.049        -0.000 -4.35e-07\n",
      "==============================================================================\n",
      "Omnibus:                        1.022   Durbin-Watson:                   1.360\n",
      "Prob(Omnibus):                  0.600   Jarque-Bera (JB):                0.233\n",
      "Skew:                           0.288   Prob(JB):                        0.890\n",
      "Kurtosis:                       3.134   Cond. No.                     1.32e+09\n",
      "==============================================================================\n",
      "\n",
      "Warnings:\n",
      "[1] Standard Errors assume that the covariance matrix of the errors is correctly specified.\n",
      "[2] The condition number is large, 1.32e+09. This might indicate that there are\n",
      "strong multicollinearity or other numerical problems.\n"
     ]
    }
   ],
   "source": [
    "# creating the model to fit the polynomial regression\n",
    "polModel2 = smf.ols(formula = 'stationCount ~ 1 + UnitsTotal + I(UnitsTotal ** 2.0)',missing='drop', data =withoutOutlierData).fit()\n",
    "print polModel2.summary()"
   ]
  },
  {
   "cell_type": "code",
   "execution_count": 34,
   "metadata": {
    "collapsed": false
   },
   "outputs": [
    {
     "name": "stdout",
     "output_type": "stream",
     "text": [
      "<type 'numpy.ndarray'>\n"
     ]
    },
    {
     "data": {
      "text/plain": [
       "<matplotlib.legend.Legend at 0x1343b80d0>"
      ]
     },
     "execution_count": 34,
     "metadata": {},
     "output_type": "execute_result"
    },
    {
     "data": {
      "image/png": "[encoded data removed]",
      "text/plain": [
       "<matplotlib.figure.Figure at 0x1370c5690>"
      ]
     },
     "metadata": {},
     "output_type": "display_data"
    }
   ],
   "source": [
    "pl.figure(figsize=(8, 8))\n",
    "pl.scatter(x, y,s=45,c='r')\n",
    "x_axis = np.linspace(min(withoutOutlierData.UnitsTotal),max(withoutOutlierData.UnitsTotal),10)\n",
    "#print type(x_axis)\n",
    "#Convertin the numpy.ndarray to pandas data frame to handle the error :::only integers, slices (`:`), ellipsis (`...`), numpy.newaxis (`None`) and integer or boolean arrays are valid indices\n",
    "x_axis = pd.DataFrame({'UnitsTotal':np.linspace(min(withoutOutlierData.UnitsTotal),max(withoutOutlierData.UnitsTotal),10)})\n",
    "print type(polModel2.predict(x_axis))\n",
    "pl.plot(x_axis, polModel2.predict(x_axis),c='g',label='Polynomial Reg curve')\n",
    "pl.title('Freequency of total rides vs the total units (OLS) Without Outliers')\n",
    "pl.ylabel('Freequency of Citibike Start Stations per zip')\n",
    "pl.xlabel('Number of Residence per zip')\n",
    "pl.legend()"
   ]
  },
  {
   "cell_type": "markdown",
   "metadata": {},
   "source": [
    "###Applying Log likelihood test "
   ]
  },
  {
   "cell_type": "code",
   "execution_count": 35,
   "metadata": {
    "collapsed": false
   },
   "outputs": [
    {
     "name": "stdout",
     "output_type": "stream",
     "text": [
      "Second number is P-Value:  (4.9575393559120471, 0.025977146651834981, 1.0)\n",
      "LR :  4.95753935591\n",
      "Value of D : 4.96\n"
     ]
    }
   ],
   "source": [
    "# I am using the log-likelihood ratio statistic to figure out which fit is better , simple linear regression of the polynomial fit \n",
    "# Null hypothesis: Simple Linear fit is better\n",
    "# Alternate hypothesis : Polynomial/quaderatic fit is better\n",
    "\n",
    "#Applying the log test using 3 methods. \n",
    "    #1) using standard compare_lr_tests\n",
    "    #2) doing mathematicaly \n",
    "    #3) manually putting values from the summary table\n",
    "# 1 method\n",
    "polModel2.compare_lr_test(linModel2) # p-value = 0.025977146651834981  \n",
    "print 'Second number is P-Value: ',polModel2.compare_lr_test(linModel2)\n",
    "# 2 method\n",
    "print \"LR : \", -2 * (linModel2.llf - (polModel2.llf))\n",
    "\n",
    "# 3 method Using standard formula(mentioned above)\n",
    "D = -2 * (-176.28) + 2 * (-173.80)\n",
    "print 'Value of D :',D\n",
    "\n"
   ]
  },
  {
   "cell_type": "markdown",
   "metadata": {},
   "source": [
    "##Inference of the values obtained in above step(Without Outlier).\n",
    "\n",
    "####Null hypothesis: Simple Linear fit is better ,   Alternate hypothesis : Polynomial/quaderatic fit is better\n",
    "\n",
    "####The value LR  needs to be compared with the critical value for chi2 with 1 degree of freedom at alpha = 0.05  and that value is 3.84\n",
    "\n",
    "####Null hypothesis is rejected if the LR> critical value(3.84)\n",
    "\n",
    "####In this case the LR is greater than the critical value so we reject null hypothesis.\n",
    "\n",
    "###Hence Linear model  is not better than the Polynomial model .\n",
    "\n",
    "\n",
    "### (Restating) Polynomial/quadratic model is better than Linear model without outliers\n"
   ]
  },
  {
   "cell_type": "markdown",
   "metadata": {},
   "source": [
    "Based on the above tests we can conclude that the number of the units per zip code is good preictor of citibike trips originating from that zip"
   ]
  },
  {
   "cell_type": "markdown",
   "metadata": {},
   "source": []
  },
  {
   "cell_type": "code",
   "execution_count": null,
   "metadata": {
    "collapsed": false
   },
   "outputs": [],
   "source": []
  },
  {
   "cell_type": "markdown",
   "metadata": {},
   "source": [
    "##  Brooklyn Data"
   ]
  },
  {
   "cell_type": "code",
   "execution_count": 42,
   "metadata": {
    "collapsed": true
   },
   "outputs": [],
   "source": [
    "# Reading the Brooklyn houses data using geopandas\n",
    "brooklyn_data = gp.GeoDataFrame.from_file('Brooklyn/BKMapPLUTO.shp')\n"
   ]
  },
  {
   "cell_type": "code",
   "execution_count": 43,
   "metadata": {
    "collapsed": true
   },
   "outputs": [],
   "source": [
    "#Reading the citibike May 2015 csv data  with geopandas\n",
    "citibike_may_df = gp.GeoDataFrame.from_csv('201505-citibike-tripdata.csv')\n",
    "\n",
    "#Reading the citibike December 2015 csv data  with geopandas\n",
    "citibike_dec_df = gp.GeoDataFrame.from_csv('201412-citibike-tripdata.csv')"
   ]
  },
  {
   "cell_type": "code",
   "execution_count": 44,
   "metadata": {
    "collapsed": true
   },
   "outputs": [],
   "source": [
    "# Getting the counts and the freequeny in the variables\n",
    "citibikeMayCount = citibike_may_df[\"start station id\"].value_counts() #Returns object containing counts of unique values.\n",
    "citibikeMayCount = citibikeMayCount.reset_index() # new DataFrame with labeling information in the columns under the index names, defaulting to ‘level_0’, ‘level_1’, etc\n",
    "citibikeDecCount = citibike_dec_df[\"start station id\"].value_counts() #Same as citibikeMayCount\n",
    "citibikeDecCount = citibikeDecCount.reset_index() # Same as citibikeMayCount\n"
   ]
  },
  {
   "cell_type": "code",
   "execution_count": 45,
   "metadata": {
    "collapsed": false
   },
   "outputs": [
    {
     "data": {
      "text/html": [
       "<div>\n",
       "<table border=\"1\" class=\"dataframe\">\n",
       "  <thead>\n",
       "    <tr style=\"text-align: right;\">\n",
       "      <th></th>\n",
       "      <th>index</th>\n",
       "      <th>0</th>\n",
       "    </tr>\n",
       "  </thead>\n",
       "  <tbody>\n",
       "    <tr>\n",
       "      <th>0</th>\n",
       "      <td>521</td>\n",
       "      <td>12988</td>\n",
       "    </tr>\n",
       "    <tr>\n",
       "      <th>1</th>\n",
       "      <td>519</td>\n",
       "      <td>10388</td>\n",
       "    </tr>\n",
       "    <tr>\n",
       "      <th>2</th>\n",
       "      <td>293</td>\n",
       "      <td>10265</td>\n",
       "    </tr>\n",
       "    <tr>\n",
       "      <th>3</th>\n",
       "      <td>426</td>\n",
       "      <td>9588</td>\n",
       "    </tr>\n",
       "    <tr>\n",
       "      <th>4</th>\n",
       "      <td>497</td>\n",
       "      <td>9469</td>\n",
       "    </tr>\n",
       "  </tbody>\n",
       "</table>\n",
       "</div>"
      ],
      "text/plain": [
       "   index      0\n",
       "0    521  12988\n",
       "1    519  10388\n",
       "2    293  10265\n",
       "3    426   9588\n",
       "4    497   9469"
      ]
     },
     "execution_count": 45,
     "metadata": {},
     "output_type": "execute_result"
    }
   ],
   "source": [
    "#Checking the value of 5 rows for May data \n",
    "citibikeMayCount.head(n=5)"
   ]
  },
  {
   "cell_type": "code",
   "execution_count": 46,
   "metadata": {
    "collapsed": false
   },
   "outputs": [
    {
     "data": {
      "text/html": [
       "<div>\n",
       "<table border=\"1\" class=\"dataframe\">\n",
       "  <thead>\n",
       "    <tr style=\"text-align: right;\">\n",
       "      <th></th>\n",
       "      <th>index</th>\n",
       "      <th>0</th>\n",
       "    </tr>\n",
       "  </thead>\n",
       "  <tbody>\n",
       "    <tr>\n",
       "      <th>0</th>\n",
       "      <td>521</td>\n",
       "      <td>6543</td>\n",
       "    </tr>\n",
       "    <tr>\n",
       "      <th>1</th>\n",
       "      <td>293</td>\n",
       "      <td>4501</td>\n",
       "    </tr>\n",
       "    <tr>\n",
       "      <th>2</th>\n",
       "      <td>318</td>\n",
       "      <td>4467</td>\n",
       "    </tr>\n",
       "    <tr>\n",
       "      <th>3</th>\n",
       "      <td>435</td>\n",
       "      <td>4031</td>\n",
       "    </tr>\n",
       "    <tr>\n",
       "      <th>4</th>\n",
       "      <td>519</td>\n",
       "      <td>3693</td>\n",
       "    </tr>\n",
       "  </tbody>\n",
       "</table>\n",
       "</div>"
      ],
      "text/plain": [
       "   index     0\n",
       "0    521  6543\n",
       "1    293  4501\n",
       "2    318  4467\n",
       "3    435  4031\n",
       "4    519  3693"
      ]
     },
     "execution_count": 46,
     "metadata": {},
     "output_type": "execute_result"
    }
   ],
   "source": [
    "#Checking the value of 5 rows for december data \n",
    "citibikeDecCount.head(n=5)"
   ]
  },
  {
   "cell_type": "code",
   "execution_count": 47,
   "metadata": {
    "collapsed": true
   },
   "outputs": [],
   "source": [
    "#Renaming the index and 0 for usage latter in code.\n",
    "citibikeMayCount = citibikeMayCount.rename(columns={'index':'stationId', 0:'stationCount'}) # Renaming column names\n",
    "#\n",
    "citibikeDecCount = citibikeDecCount.rename(columns={'index':'stationId', 0:'stationCount'}) # Renaming column names\n"
   ]
  },
  {
   "cell_type": "code",
   "execution_count": 48,
   "metadata": {
    "collapsed": false
   },
   "outputs": [
    {
     "data": {
      "text/html": [
       "<div>\n",
       "<table border=\"1\" class=\"dataframe\">\n",
       "  <thead>\n",
       "    <tr style=\"text-align: right;\">\n",
       "      <th></th>\n",
       "      <th>stationId</th>\n",
       "      <th>stationCount</th>\n",
       "    </tr>\n",
       "  </thead>\n",
       "  <tbody>\n",
       "    <tr>\n",
       "      <th>0</th>\n",
       "      <td>521</td>\n",
       "      <td>12988</td>\n",
       "    </tr>\n",
       "    <tr>\n",
       "      <th>1</th>\n",
       "      <td>519</td>\n",
       "      <td>10388</td>\n",
       "    </tr>\n",
       "  </tbody>\n",
       "</table>\n",
       "</div>"
      ],
      "text/plain": [
       "   stationId  stationCount\n",
       "0        521         12988\n",
       "1        519         10388"
      ]
     },
     "execution_count": 48,
     "metadata": {},
     "output_type": "execute_result"
    }
   ],
   "source": [
    "#Checking the value of 2 rows for May data \n",
    "citibikeMayCount.head(n=2)"
   ]
  },
  {
   "cell_type": "code",
   "execution_count": 49,
   "metadata": {
    "collapsed": false
   },
   "outputs": [
    {
     "data": {
      "text/html": [
       "<div>\n",
       "<table border=\"1\" class=\"dataframe\">\n",
       "  <thead>\n",
       "    <tr style=\"text-align: right;\">\n",
       "      <th></th>\n",
       "      <th>stationId</th>\n",
       "      <th>stationCount</th>\n",
       "    </tr>\n",
       "  </thead>\n",
       "  <tbody>\n",
       "    <tr>\n",
       "      <th>0</th>\n",
       "      <td>521</td>\n",
       "      <td>6543</td>\n",
       "    </tr>\n",
       "    <tr>\n",
       "      <th>1</th>\n",
       "      <td>293</td>\n",
       "      <td>4501</td>\n",
       "    </tr>\n",
       "  </tbody>\n",
       "</table>\n",
       "</div>"
      ],
      "text/plain": [
       "   stationId  stationCount\n",
       "0        521          6543\n",
       "1        293          4501"
      ]
     },
     "execution_count": 49,
     "metadata": {},
     "output_type": "execute_result"
    }
   ],
   "source": [
    "#Checking the value of 2 rows for December data \n",
    "citibikeDecCount.head(n=2)"
   ]
  },
  {
   "cell_type": "code",
   "execution_count": 50,
   "metadata": {
    "collapsed": false
   },
   "outputs": [
    {
     "data": {
      "text/html": [
       "<div>\n",
       "<table border=\"1\" class=\"dataframe\">\n",
       "  <thead>\n",
       "    <tr style=\"text-align: right;\">\n",
       "      <th></th>\n",
       "      <th>stationId</th>\n",
       "      <th>stationCount</th>\n",
       "    </tr>\n",
       "  </thead>\n",
       "  <tbody>\n",
       "    <tr>\n",
       "      <th>0</th>\n",
       "      <td>521</td>\n",
       "      <td>12988</td>\n",
       "    </tr>\n",
       "    <tr>\n",
       "      <th>1</th>\n",
       "      <td>519</td>\n",
       "      <td>10388</td>\n",
       "    </tr>\n",
       "    <tr>\n",
       "      <th>2</th>\n",
       "      <td>293</td>\n",
       "      <td>10265</td>\n",
       "    </tr>\n",
       "  </tbody>\n",
       "</table>\n",
       "</div>"
      ],
      "text/plain": [
       "   stationId  stationCount\n",
       "0        521         12988\n",
       "1        519         10388\n",
       "2        293         10265"
      ]
     },
     "execution_count": 50,
     "metadata": {},
     "output_type": "execute_result"
    }
   ],
   "source": [
    "#Concatinating both the citibike datas using Pandas standard concat function\n",
    "frames = [citibikeMayCount,citibikeDecCount] #Preparing frames for concatination\n",
    "citibike_data = pd.concat(frames) # Concatinating the 2 data sets\n",
    "citibike_data.head(n=3)"
   ]
  },
  {
   "cell_type": "code",
   "execution_count": 51,
   "metadata": {
    "collapsed": false
   },
   "outputs": [
    {
     "name": "stdout",
     "output_type": "stream",
     "text": [
      "   stationId  stationCount\n",
      "0         72          3793\n",
      "1         79          3353\n",
      "2         82          1538\n",
      "3         83          1458\n",
      "4        116          4396\n",
      "332\n"
     ]
    }
   ],
   "source": [
    "#Sum up the common station id's if any\n",
    "uniq_citibike_data = citibike_data['stationCount'].groupby(citibike_data['stationId']).agg(np.sum) # Using groupby function of pandas\n",
    "uniq_citibike_data = uniq_citibike_data.reset_index() \n",
    "uniq_citibike_data = uniq_citibike_data.rename(columns={'index':'stationId', 0:'stationCount'}) \n",
    "print (uniq_citibike_data.head(n=5))\n",
    "print len(uniq_citibike_data)"
   ]
  },
  {
   "cell_type": "code",
   "execution_count": 52,
   "metadata": {
    "collapsed": true
   },
   "outputs": [],
   "source": [
    "#Reading the Json data from the given url and putting in the dictionary type variable\n",
    "json_data = []\n",
    "url = 'http://cosmo.nyu.edu/~fb55/UI_CUSP_2015/data/stationzips.json'\n",
    "request = urllib2.urlopen(url)\n",
    "json_data = json.loads(request.read())\n",
    "#json_data"
   ]
  },
  {
   "cell_type": "code",
   "execution_count": 53,
   "metadata": {
    "collapsed": false
   },
   "outputs": [
    {
     "name": "stdout",
     "output_type": "stream",
     "text": [
      "before convert--> object\n",
      "after convert --> float64\n"
     ]
    }
   ],
   "source": [
    "#Converting Json data to Pandas Data Frame\n",
    "stat_zip_data = pd.DataFrame(json_data.items(),columns=['stationId','zip'])\n",
    "print 'before convert-->',(stat_zip_data['stationId'].dtype)\n",
    "stat_zip_data['stationId'] = (stat_zip_data['stationId']).astype(float)\n",
    "print 'after convert -->',(stat_zip_data['stationId'].dtype)\n"
   ]
  },
  {
   "cell_type": "code",
   "execution_count": 54,
   "metadata": {
    "collapsed": false
   },
   "outputs": [
    {
     "name": "stdout",
     "output_type": "stream",
     "text": [
      "<class 'pandas.core.frame.DataFrame'>\n",
      "Int64Index: 332 entries, 0 to 331\n",
      "Data columns (total 3 columns):\n",
      "stationId       332 non-null float64\n",
      "stationCount    332 non-null int64\n",
      "zip             331 non-null float64\n",
      "dtypes: float64(2), int64(1)\n",
      "memory usage: 10.4 KB\n",
      "None\n"
     ]
    }
   ],
   "source": [
    "#Merging the JSON data and the manipulated Citibike data of May and december\n",
    "uniq_citibike_data['stationId'] = (uniq_citibike_data['stationId']).astype(float) # Converting the data to float to merge with float json data\n",
    "citibike_zip_data = pd.merge(uniq_citibike_data,stat_zip_data,how='inner',on='stationId') #Merging the data with inner join on stationID\n",
    "print citibike_zip_data.info()"
   ]
  },
  {
   "cell_type": "code",
   "execution_count": 55,
   "metadata": {
    "collapsed": false
   },
   "outputs": [
    {
     "data": {
      "text/html": [
       "<div>\n",
       "<table border=\"1\" class=\"dataframe\">\n",
       "  <thead>\n",
       "    <tr style=\"text-align: right;\">\n",
       "      <th></th>\n",
       "      <th>stationId</th>\n",
       "      <th>stationCount</th>\n",
       "      <th>zip</th>\n",
       "    </tr>\n",
       "  </thead>\n",
       "  <tbody>\n",
       "    <tr>\n",
       "      <th>0</th>\n",
       "      <td>72</td>\n",
       "      <td>3793</td>\n",
       "      <td>10019</td>\n",
       "    </tr>\n",
       "    <tr>\n",
       "      <th>1</th>\n",
       "      <td>79</td>\n",
       "      <td>3353</td>\n",
       "      <td>10013</td>\n",
       "    </tr>\n",
       "    <tr>\n",
       "      <th>2</th>\n",
       "      <td>82</td>\n",
       "      <td>1538</td>\n",
       "      <td>10038</td>\n",
       "    </tr>\n",
       "    <tr>\n",
       "      <th>3</th>\n",
       "      <td>83</td>\n",
       "      <td>1458</td>\n",
       "      <td>11217</td>\n",
       "    </tr>\n",
       "    <tr>\n",
       "      <th>4</th>\n",
       "      <td>116</td>\n",
       "      <td>4396</td>\n",
       "      <td>10011</td>\n",
       "    </tr>\n",
       "  </tbody>\n",
       "</table>\n",
       "</div>"
      ],
      "text/plain": [
       "   stationId  stationCount    zip\n",
       "0         72          3793  10019\n",
       "1         79          3353  10013\n",
       "2         82          1538  10038\n",
       "3         83          1458  11217\n",
       "4        116          4396  10011"
      ]
     },
     "execution_count": 55,
     "metadata": {},
     "output_type": "execute_result"
    }
   ],
   "source": [
    "#Just to see the data \n",
    "citibike_zip_data.head(n=5)"
   ]
  },
  {
   "cell_type": "code",
   "execution_count": 56,
   "metadata": {
    "collapsed": false
   },
   "outputs": [
    {
     "name": "stdout",
     "output_type": "stream",
     "text": [
      "      zip  stationCount\n",
      "0      83          8445\n",
      "1   10001        107096\n",
      "2   10002         78867\n",
      "3   10003        150693\n",
      "4   10004         13493\n",
      "5   10005         17921\n",
      "6   10007         34654\n",
      "7   10009         66838\n",
      "8   10010         50815\n",
      "9   10011        113756\n",
      "10  10012         57230\n",
      "11  10013         63772\n",
      "12  10014         87009\n",
      "13  10016         81935\n",
      "14  10017         54317\n",
      "15  10018         42032\n",
      "16  10019         85573\n",
      "17  10022         35663\n",
      "18  10023         10371\n",
      "19  10036         53348\n",
      "20  10038         21030\n",
      "21  10280          9119\n",
      "22  10281          1651\n",
      "23  10282          9730\n",
      "24  11201         48851\n",
      "25  11205         15777\n",
      "26  11211         17314\n",
      "27  11216          2057\n",
      "28  11217         11090\n",
      "29  11220             6\n",
      "30  11238          6071\n",
      "31  11251          1038\n"
     ]
    }
   ],
   "source": [
    "# Adding the station counts for each zip\n",
    "# \n",
    "group_citibike_zip = citibike_zip_data['stationCount'].groupby(citibike_zip_data['zip']).agg(np.sum)\n",
    "group_citibike_zip = group_citibike_zip.reset_index()\n",
    "print group_citibike_zip\n",
    "#group_citibike_zip"
   ]
  },
  {
   "cell_type": "code",
   "execution_count": 57,
   "metadata": {
    "collapsed": false
   },
   "outputs": [
    {
     "data": {
      "text/plain": [
       "Index([    u'APPBBL',    u'APPDate',    u'Address', u'AllZoning1',\n",
       "       u'AllZoning2', u'AreaSource', u'AssessLand',  u'AssessTot',\n",
       "              u'BBL',   u'BldgArea',  u'BldgClass',  u'BldgDepth',\n",
       "        u'BldgFront',      u'Block',   u'BoroCode',    u'Borough',\n",
       "         u'BsmtCode',  u'BuiltCode',   u'BuiltFAR',     u'CB2010',\n",
       "               u'CD',     u'CT2010',    u'ComArea',    u'CommFAR',\n",
       "          u'CondoNo',    u'Council',  u'EDesigNum',  u'Easements',\n",
       "       u'ExemptLand',  u'ExemptTot',        u'Ext',   u'FacilFAR',\n",
       "       u'FactryArea',   u'FireComp', u'GarageArea', u'HealthArea',\n",
       "         u'HistDist', u'IrrLotCode',    u'LandUse',   u'Landmark',\n",
       "              u'Lot',    u'LotArea',   u'LotDepth',   u'LotFront',\n",
       "          u'LotType',  u'LtdHeight', u'MAPPLUTO_F',   u'NumBldgs',\n",
       "        u'NumFloors', u'OfficeArea',  u'OtherArea',   u'Overlay1',\n",
       "         u'Overlay2',  u'OwnerName',  u'OwnerType', u'PLUTOMapID',\n",
       "       u'PolicePrct',   u'ProxCode',    u'ResArea',   u'ResidFAR',\n",
       "       u'RetailArea', u'SHAPE_Area', u'SHAPE_Leng',    u'SPDist1',\n",
       "          u'SPDist2',    u'Sanborn', u'SchoolDist',  u'SplitZone',\n",
       "        u'StrgeArea',     u'TaxMap',  u'Tract2010',   u'UnitsRes',\n",
       "       u'UnitsTotal',    u'Version',     u'XCoord',     u'YCoord',\n",
       "       u'YearAlter1', u'YearAlter2',  u'YearBuilt',     u'ZMCode',\n",
       "          u'ZipCode',  u'ZoneDist1',  u'ZoneDist2',  u'ZoneDist3',\n",
       "        u'ZoneDist4',    u'ZoneMap',   u'geometry'],\n",
       "      dtype='object')"
      ]
     },
     "execution_count": 57,
     "metadata": {},
     "output_type": "execute_result"
    }
   ],
   "source": [
    "# To see all the columns of the brooklyndata\n",
    "brooklyn_data.columns"
   ]
  },
  {
   "cell_type": "code",
   "execution_count": 58,
   "metadata": {
    "collapsed": false
   },
   "outputs": [
    {
     "name": "stdout",
     "output_type": "stream",
     "text": [
      "float64\n"
     ]
    },
    {
     "data": {
      "text/html": [
       "<div>\n",
       "<table border=\"1\" class=\"dataframe\">\n",
       "  <thead>\n",
       "    <tr style=\"text-align: right;\">\n",
       "      <th></th>\n",
       "      <th>zip</th>\n",
       "      <th>UnitsTotal</th>\n",
       "    </tr>\n",
       "  </thead>\n",
       "  <tbody>\n",
       "    <tr>\n",
       "      <th>0</th>\n",
       "      <td>0</td>\n",
       "      <td>10</td>\n",
       "    </tr>\n",
       "    <tr>\n",
       "      <th>1</th>\n",
       "      <td>11201</td>\n",
       "      <td>37927</td>\n",
       "    </tr>\n",
       "    <tr>\n",
       "      <th>2</th>\n",
       "      <td>11203</td>\n",
       "      <td>28527</td>\n",
       "    </tr>\n",
       "  </tbody>\n",
       "</table>\n",
       "</div>"
      ],
      "text/plain": [
       "     zip  UnitsTotal\n",
       "0      0          10\n",
       "1  11201       37927\n",
       "2  11203       28527"
      ]
     },
     "execution_count": 58,
     "metadata": {},
     "output_type": "execute_result"
    }
   ],
   "source": [
    "#Simmilarly grouping the sum of the Brooklyn units in the zip code\n",
    "brooklyn_data_zip = brooklyn_data['UnitsTotal'].groupby(brooklyn_data['ZipCode']).agg(np.sum)\n",
    "brooklyn_data_zip = brooklyn_data_zip.reset_index()\n",
    "brooklyn_data_zip = brooklyn_data_zip.rename(columns={'ZipCode':'zip', 0:'stationCount'})\n",
    "brooklyn_data_zip['zip'] = (brooklyn_data_zip['zip']).astype(float) #Converting to float as zip in citibike is float\n",
    "print brooklyn_data_zip['zip'].dtype\n",
    "brooklyn_data_zip.head(n=3)"
   ]
  },
  {
   "cell_type": "code",
   "execution_count": 59,
   "metadata": {
    "collapsed": false
   },
   "outputs": [
    {
     "data": {
      "text/html": [
       "<div>\n",
       "<table border=\"1\" class=\"dataframe\">\n",
       "  <thead>\n",
       "    <tr style=\"text-align: right;\">\n",
       "      <th></th>\n",
       "      <th>zip</th>\n",
       "      <th>UnitsTotal</th>\n",
       "      <th>stationCount</th>\n",
       "    </tr>\n",
       "  </thead>\n",
       "  <tbody>\n",
       "    <tr>\n",
       "      <th>0</th>\n",
       "      <td>11201</td>\n",
       "      <td>37927</td>\n",
       "      <td>48851</td>\n",
       "    </tr>\n",
       "    <tr>\n",
       "      <th>1</th>\n",
       "      <td>11205</td>\n",
       "      <td>19947</td>\n",
       "      <td>15777</td>\n",
       "    </tr>\n",
       "    <tr>\n",
       "      <th>2</th>\n",
       "      <td>11211</td>\n",
       "      <td>31277</td>\n",
       "      <td>17314</td>\n",
       "    </tr>\n",
       "    <tr>\n",
       "      <th>3</th>\n",
       "      <td>11216</td>\n",
       "      <td>26530</td>\n",
       "      <td>2057</td>\n",
       "    </tr>\n",
       "    <tr>\n",
       "      <th>4</th>\n",
       "      <td>11217</td>\n",
       "      <td>22091</td>\n",
       "      <td>11090</td>\n",
       "    </tr>\n",
       "  </tbody>\n",
       "</table>\n",
       "</div>"
      ],
      "text/plain": [
       "     zip  UnitsTotal  stationCount\n",
       "0  11201       37927         48851\n",
       "1  11205       19947         15777\n",
       "2  11211       31277         17314\n",
       "3  11216       26530          2057\n",
       "4  11217       22091         11090"
      ]
     },
     "execution_count": 59,
     "metadata": {},
     "output_type": "execute_result"
    }
   ],
   "source": [
    "# Merging the station rides of citibike and the Total units of the brooklyn in single data frame using inner join on the column zip.\n",
    "units_stations_zipData = pd.merge(brooklyn_data_zip, group_citibike_zip, how ='inner',on='zip')\n",
    "units_stations_zipData.head(n=5)"
   ]
  },
  {
   "cell_type": "code",
   "execution_count": 60,
   "metadata": {
    "collapsed": true
   },
   "outputs": [],
   "source": [
    "# Till now I have a data sets(dataframe) with the total units per zip code and total station count per zip code\n",
    "#StationCpunt reffers to the total number of rides originating from the zip code\n",
    "#UnitsTotal reffers to total number of units (units in each building if a building has more than 1 unit)"
   ]
  },
  {
   "cell_type": "markdown",
   "metadata": {},
   "source": [
    "#####1) Fit BOTH a first and second degree linear model (a line and a parabola) to the number of rides per zip code (this is your dependent variable) as a function of number of Residential Units in that zip code (this is your independent variable).\n",
    "\n",
    "###Starting the statestical analysis \n"
   ]
  },
  {
   "cell_type": "code",
   "execution_count": 61,
   "metadata": {
    "collapsed": false
   },
   "outputs": [
    {
     "data": {
      "text/plain": [
       "<matplotlib.text.Text at 0x10e1c8250>"
      ]
     },
     "execution_count": 61,
     "metadata": {},
     "output_type": "execute_result"
    },
    {
     "data": {
      "image/png": "[encoded data removed]",
      "text/plain": [
       "<matplotlib.figure.Figure at 0x13daca090>"
      ]
     },
     "metadata": {},
     "output_type": "display_data"
    }
   ],
   "source": [
    "#Plotting the data with the outliers and zip code =0\n",
    "plt.figure(figsize=(10, 10))\n",
    "plt.scatter(units_stations_zipData['UnitsTotal'],units_stations_zipData['stationCount'],s=45,c='red')\n",
    "plt.title('Freequency of total rides vs the total units')\n",
    "plt.ylabel('Freequency of Citibike Start Stations per zip')\n",
    "plt.xlabel('Number of Residence per zip')\n",
    "#plt.bar(mynewdf['start station id'],mynewdf['UnitsRes'])\n"
   ]
  },
  {
   "cell_type": "code",
   "execution_count": 62,
   "metadata": {
    "collapsed": false
   },
   "outputs": [
    {
     "name": "stdout",
     "output_type": "stream",
     "text": [
      "                            OLS Regression Results                            \n",
      "==============================================================================\n",
      "Dep. Variable:           stationCount   R-squared:                       0.293\n",
      "Model:                            OLS   Adj. R-squared:                  0.152\n",
      "Method:                 Least Squares   F-statistic:                     2.074\n",
      "Date:                Mon, 26 Oct 2015   Prob (F-statistic):              0.209\n",
      "Time:                        15:11:19   Log-Likelihood:                -76.164\n",
      "No. Observations:                   7   AIC:                             156.3\n",
      "Df Residuals:                       5   BIC:                             156.2\n",
      "Df Model:                           1                                         \n",
      "Covariance Type:            nonrobust                                         \n",
      "==============================================================================\n",
      "                 coef    std err          t      P>|t|      [95.0% Conf. Int.]\n",
      "------------------------------------------------------------------------------\n",
      "Intercept  -2.719e+04   2.95e+04     -0.922      0.399     -1.03e+05  4.86e+04\n",
      "UnitsTotal     1.4735      1.023      1.440      0.209        -1.156     4.103\n",
      "==============================================================================\n",
      "Omnibus:                          nan   Durbin-Watson:                   1.088\n",
      "Prob(Omnibus):                    nan   Jarque-Bera (JB):                0.485\n",
      "Skew:                           0.178   Prob(JB):                        0.785\n",
      "Kurtosis:                       1.760   Cond. No.                     1.48e+05\n",
      "==============================================================================\n",
      "\n",
      "Warnings:\n",
      "[1] Standard Errors assume that the covariance matrix of the errors is correctly specified.\n",
      "[2] The condition number is large, 1.48e+05. This might indicate that there are\n",
      "strong multicollinearity or other numerical problems.\n"
     ]
    },
    {
     "name": "stderr",
     "output_type": "stream",
     "text": [
      "/Users/svarmit/anaconda/lib/python2.7/site-packages/statsmodels/stats/stattools.py:72: UserWarning: omni_normtest is not valid with less than 8 observations; 7 samples were given.\n",
      "  \"samples were given.\" % int(n))\n"
     ]
    }
   ],
   "source": [
    "linModel = smf.ols(formula = 'stationCount ~ UnitsTotal', data = units_stations_zipData).fit()\n",
    "print linModel.summary()\n",
    "x=units_stations_zipData.UnitsTotal\n",
    "y=units_stations_zipData.stationCount"
   ]
  },
  {
   "cell_type": "code",
   "execution_count": 63,
   "metadata": {
    "collapsed": false
   },
   "outputs": [
    {
     "data": {
      "text/plain": [
       "<matplotlib.legend.Legend at 0x12daaa290>"
      ]
     },
     "execution_count": 63,
     "metadata": {},
     "output_type": "execute_result"
    },
    {
     "data": {
      "image/png": "[encoded data removed]",
      "text/plain": [
       "<matplotlib.figure.Figure at 0x122738dd0>"
      ]
     },
     "metadata": {},
     "output_type": "display_data"
    }
   ],
   "source": [
    "#Fitting the best line using abline_plot and plotting using pylab (instead of matplotlib as done above)\n",
    "\n",
    "figure, ax = pl.subplots(figsize=(8,8))\n",
    "ax.scatter(x, y,s=45, c='r')\n",
    "# Plot regression line\n",
    "abline_plot(model_results=linModel, c='b', ax=ax,label='Linear Reg Line')\n",
    "pl.title('Freequency of total rides vs the total units (OLS)')\n",
    "pl.ylabel('Freequency of Citibike Start Stations per zip')\n",
    "pl.xlabel('Number of Residence per zip')\n",
    "\n",
    "plt.legend()"
   ]
  },
  {
   "cell_type": "code",
   "execution_count": 64,
   "metadata": {
    "collapsed": false
   },
   "outputs": [
    {
     "name": "stdout",
     "output_type": "stream",
     "text": [
      "                            OLS Regression Results                            \n",
      "==============================================================================\n",
      "Dep. Variable:           stationCount   R-squared:                       0.908\n",
      "Model:                            OLS   Adj. R-squared:                  0.861\n",
      "Method:                 Least Squares   F-statistic:                     19.65\n",
      "Date:                Mon, 26 Oct 2015   Prob (F-statistic):            0.00853\n",
      "Time:                        15:11:19   Log-Likelihood:                -69.042\n",
      "No. Observations:                   7   AIC:                             144.1\n",
      "Df Residuals:                       4   BIC:                             143.9\n",
      "Df Model:                           2                                         \n",
      "Covariance Type:            nonrobust                                         \n",
      "========================================================================================\n",
      "                           coef    std err          t      P>|t|      [95.0% Conf. Int.]\n",
      "----------------------------------------------------------------------------------------\n",
      "Intercept             2.504e+05   5.51e+04      4.543      0.010      9.74e+04  4.03e+05\n",
      "UnitsTotal             -18.7410      3.941     -4.756      0.009       -29.682    -7.800\n",
      "I(UnitsTotal ** 2.0)     0.0004   6.86e-05      5.158      0.007         0.000     0.001\n",
      "==============================================================================\n",
      "Omnibus:                          nan   Durbin-Watson:                   2.627\n",
      "Prob(Omnibus):                    nan   Jarque-Bera (JB):                0.675\n",
      "Skew:                          -0.741   Prob(JB):                        0.714\n",
      "Kurtosis:                       3.343   Cond. No.                     2.11e+10\n",
      "==============================================================================\n",
      "\n",
      "Warnings:\n",
      "[1] Standard Errors assume that the covariance matrix of the errors is correctly specified.\n",
      "[2] The condition number is large, 2.11e+10. This might indicate that there are\n",
      "strong multicollinearity or other numerical problems.\n"
     ]
    }
   ],
   "source": [
    "# creating the model to fit the polynomial regression\n",
    "polModel = smf.ols(formula = 'stationCount ~ 1 + UnitsTotal + I(UnitsTotal ** 2.0)',missing='drop', data =units_stations_zipData).fit()\n",
    "print polModel.summary()"
   ]
  },
  {
   "cell_type": "code",
   "execution_count": 65,
   "metadata": {
    "collapsed": false
   },
   "outputs": [
    {
     "name": "stdout",
     "output_type": "stream",
     "text": [
      "<type 'numpy.ndarray'>\n"
     ]
    },
    {
     "data": {
      "text/plain": [
       "<matplotlib.legend.Legend at 0x110825dd0>"
      ]
     },
     "execution_count": 65,
     "metadata": {},
     "output_type": "execute_result"
    },
    {
     "data": {
      "image/png": "[encoded data removed]",
      "text/plain": [
       "<matplotlib.figure.Figure at 0x130cfc890>"
      ]
     },
     "metadata": {},
     "output_type": "display_data"
    }
   ],
   "source": [
    "\n",
    "\n",
    "pl.figure(figsize=(8, 8))\n",
    "pl.scatter(x, y,s=45,c='r')\n",
    "x_axis = np.linspace(min(units_stations_zipData.UnitsTotal),max(units_stations_zipData.UnitsTotal),10)\n",
    "#print type(x_axis)\n",
    "#Convertin the numpy.ndarray to pandas data frame to handle the error :::only integers, slices (`:`), ellipsis (`...`), numpy.newaxis (`None`) and integer or boolean arrays are valid indices\n",
    "\n",
    "x_axis = pd.DataFrame({'UnitsTotal':np.linspace(min(units_stations_zipData.UnitsTotal),max(units_stations_zipData.UnitsTotal),10)})\n",
    "print type(polModel.predict(x_axis))\n",
    "pl.plot(x_axis, polModel.predict(x_axis),c='g',label='Polynomial Reg curve')\n",
    "pl.title('Freequency of total rides vs the total units (OLS)')\n",
    "pl.ylabel('Freequency of Citibike Start Stations per zip')\n",
    "pl.xlabel('Number of Residence per zip')\n",
    "pl.legend()"
   ]
  },
  {
   "cell_type": "markdown",
   "metadata": {},
   "source": [
    "##Applying Likelihood Ratio Tests\n",
    "###In statistics, a likelihood ratio test is a statistical test used to compare the goodness of fit of two models, one of which (the null model) is a special case of the other (the alternative model)."
   ]
  },
  {
   "cell_type": "code",
   "execution_count": 66,
   "metadata": {
    "collapsed": false
   },
   "outputs": [
    {
     "name": "stdout",
     "output_type": "stream",
     "text": [
      "Second number is P-Value:  (14.244640785792427, 0.00016051724289017601, 1.0)\n",
      "LR :  14.2446407858\n"
     ]
    }
   ],
   "source": [
    "# I am using the log-likelihood ratio statistic to figure out which fit is better , simple linear regression of the polynomial fit \n",
    "# Null hypothesis: Simple Linear fit is better\n",
    "# Alternate hypothesis : Polynomial/quaderatic fit is better\n",
    "\n",
    "#Applying the log test using 3 methods. \n",
    "    #1) using standard compare_lr_tests\n",
    "    #2) doing mathematicaly \n",
    "# 1 method\n",
    "polModel.compare_lr_test(linModel) # p-value = 0.00016051724289017601  very small!!! \n",
    "print 'Second number is P-Value: ',polModel.compare_lr_test(linModel)\n",
    "# 2 method\n",
    "print \"LR : \", -2 * (linModel.llf - (polModel.llf))\n",
    "\n"
   ]
  },
  {
   "cell_type": "code",
   "execution_count": 67,
   "metadata": {
    "collapsed": true
   },
   "outputs": [],
   "source": [
    "##Inference of the values obtained in above step.\n",
    "\n",
    "####Null hypothesis: Simple Linear fit is better ,   Alternate hypothesis : Polynomial/quaderatic fit is better\n",
    "\n",
    "####The value LR  needs to be compared with the critical value for chi2 with 1 degree of freedom at alpha = 0.05  and that value is 3.84\n",
    "\n",
    "####Null hypothesis is rejected if the LR> critical value(3.84)\n",
    "\n",
    "####In this case the LR is greater than the critical value so we reject the null hypothesis.\n",
    "\n",
    "###Hence Linear model  is not better than the Polynomial model for brooklyn data.\n"
   ]
  },
  {
   "cell_type": "markdown",
   "metadata": {},
   "source": [
    "##Without Outliers"
   ]
  },
  {
   "cell_type": "code",
   "execution_count": 68,
   "metadata": {
    "collapsed": false
   },
   "outputs": [
    {
     "name": "stdout",
     "output_type": "stream",
     "text": [
      "                            OLS Regression Results                            \n",
      "==============================================================================\n",
      "Dep. Variable:           stationCount   R-squared:                       0.135\n",
      "Model:                            OLS   Adj. R-squared:                 -0.082\n",
      "Method:                 Least Squares   F-statistic:                    0.6219\n",
      "Date:                Mon, 26 Oct 2015   Prob (F-statistic):              0.474\n",
      "Time:                        15:11:36   Log-Likelihood:                -60.794\n",
      "No. Observations:                   6   AIC:                             125.6\n",
      "Df Residuals:                       4   BIC:                             125.2\n",
      "Df Model:                           1                                         \n",
      "Covariance Type:            nonrobust                                         \n",
      "==============================================================================\n",
      "                 coef    std err          t      P>|t|      [95.0% Conf. Int.]\n",
      "------------------------------------------------------------------------------\n",
      "Intercept   2.351e+04    1.9e+04      1.237      0.284     -2.92e+04  7.63e+04\n",
      "UnitsTotal    -0.5551      0.704     -0.789      0.474        -2.509     1.399\n",
      "==============================================================================\n",
      "Omnibus:                          nan   Durbin-Watson:                   2.187\n",
      "Prob(Omnibus):                    nan   Jarque-Bera (JB):                0.530\n",
      "Skew:                           0.649   Prob(JB):                        0.767\n",
      "Kurtosis:                       2.341   Cond. No.                     1.69e+05\n",
      "==============================================================================\n",
      "\n",
      "Warnings:\n",
      "[1] Standard Errors assume that the covariance matrix of the errors is correctly specified.\n",
      "[2] The condition number is large, 1.69e+05. This might indicate that there are\n",
      "strong multicollinearity or other numerical problems.\n"
     ]
    },
    {
     "name": "stderr",
     "output_type": "stream",
     "text": [
      "/Users/svarmit/anaconda/lib/python2.7/site-packages/statsmodels/stats/stattools.py:72: UserWarning: omni_normtest is not valid with less than 8 observations; 6 samples were given.\n",
      "  \"samples were given.\" % int(n))\n"
     ]
    },
    {
     "data": {
      "image/png": "[encoded data removed]",
      "text/plain": [
       "<matplotlib.figure.Figure at 0x1345c7450>"
      ]
     },
     "metadata": {},
     "output_type": "display_data"
    }
   ],
   "source": [
    "# Removing the outlier by removing the data \n",
    "withoutOutlierData = units_stations_zipData[(units_stations_zipData['UnitsTotal'] > 0) \n",
    "                                            & (units_stations_zipData['UnitsTotal'] < 35000) \n",
    "                                            & (units_stations_zipData['stationCount'] < 35000)]\n",
    "\n",
    "\n",
    "#Scatter plot of the data without outliers\n",
    "\n",
    "plt.figure(figsize=(10, 10))\n",
    "plt.scatter(withoutOutlierData['UnitsTotal'],withoutOutlierData['stationCount'],s=45,c='red')\n",
    "plt.title('Freequency of total rides vs the total units Without Outliers')\n",
    "plt.ylabel('Freequency of Citibike Start Stations per zip')\n",
    "plt.xlabel('Number of Residence per zip')\n",
    "#plt.bar(mynewdf['start station id'],mynewdf['UnitsRes'])\n",
    "\n",
    "linModel2 = smf.ols(formula = 'stationCount ~ UnitsTotal', data = withoutOutlierData).fit()\n",
    "print linModel2.summary()\n",
    "x=withoutOutlierData.UnitsTotal\n",
    "y=withoutOutlierData.stationCount\n",
    "#Fitting the best line using abline_plot and plotting using pylab (instead of matplotlib as done above)"
   ]
  },
  {
   "cell_type": "code",
   "execution_count": 69,
   "metadata": {
    "collapsed": false
   },
   "outputs": [
    {
     "name": "stdout",
     "output_type": "stream",
     "text": [
      "                            OLS Regression Results                            \n",
      "==============================================================================\n",
      "Dep. Variable:           stationCount   R-squared:                       0.426\n",
      "Model:                            OLS   Adj. R-squared:                  0.043\n",
      "Method:                 Least Squares   F-statistic:                     1.111\n",
      "Date:                Mon, 26 Oct 2015   Prob (F-statistic):              0.435\n",
      "Time:                        15:11:46   Log-Likelihood:                -59.565\n",
      "No. Observations:                   6   AIC:                             125.1\n",
      "Df Residuals:                       3   BIC:                             124.5\n",
      "Df Model:                           2                                         \n",
      "Covariance Type:            nonrobust                                         \n",
      "========================================================================================\n",
      "                           coef    std err          t      P>|t|      [95.0% Conf. Int.]\n",
      "----------------------------------------------------------------------------------------\n",
      "Intercept             2.115e+05   1.54e+05      1.378      0.262     -2.77e+05     7e+05\n",
      "UnitsTotal             -15.5850     12.210     -1.276      0.292       -54.443    23.273\n",
      "I(UnitsTotal ** 2.0)     0.0003      0.000      1.233      0.305        -0.000     0.001\n",
      "==============================================================================\n",
      "Omnibus:                          nan   Durbin-Watson:                   2.581\n",
      "Prob(Omnibus):                    nan   Jarque-Bera (JB):                0.064\n",
      "Skew:                          -0.226   Prob(JB):                        0.968\n",
      "Kurtosis:                       2.770   Cond. No.                     4.09e+10\n",
      "==============================================================================\n",
      "\n",
      "Warnings:\n",
      "[1] Standard Errors assume that the covariance matrix of the errors is correctly specified.\n",
      "[2] The condition number is large, 4.09e+10. This might indicate that there are\n",
      "strong multicollinearity or other numerical problems.\n"
     ]
    },
    {
     "data": {
      "image/png": "[encoded data removed]",
      "text/plain": [
       "<matplotlib.figure.Figure at 0x134027690>"
      ]
     },
     "metadata": {},
     "output_type": "display_data"
    }
   ],
   "source": [
    "figure, ax = pl.subplots(figsize=(8,8))\n",
    "ax.scatter(x, y,s=45, c='r')\n",
    "# Plot regression line\n",
    "abline_plot(model_results=linModel2, c='b', ax=ax,label='Linear Reg Line')\n",
    "pl.title('Freequency of total rides vs the total units (OLS) Without Outliers')\n",
    "pl.ylabel('Freequency of Citibike Start Stations per zip')\n",
    "pl.xlabel('Number of Residence per zip')\n",
    "plt.legend()\n",
    "# creating the model to fit the polynomial regression\n",
    "polModel2 = smf.ols(formula = 'stationCount ~ 1 + UnitsTotal + I(UnitsTotal ** 2.0)',missing='drop', data =withoutOutlierData).fit()\n",
    "print polModel2.summary()\n"
   ]
  },
  {
   "cell_type": "code",
   "execution_count": 70,
   "metadata": {
    "collapsed": false
   },
   "outputs": [
    {
     "name": "stdout",
     "output_type": "stream",
     "text": [
      "<type 'numpy.ndarray'>\n"
     ]
    },
    {
     "data": {
      "text/plain": [
       "<matplotlib.legend.Legend at 0x11ea2be50>"
      ]
     },
     "execution_count": 70,
     "metadata": {},
     "output_type": "execute_result"
    },
    {
     "data": {
      "image/png": "[encoded data removed]",
      "text/plain": [
       "<matplotlib.figure.Figure at 0x11f7abf90>"
      ]
     },
     "metadata": {},
     "output_type": "display_data"
    }
   ],
   "source": [
    "pl.figure(figsize=(8, 8))\n",
    "pl.scatter(x, y,s=45,c='r')\n",
    "x_axis = np.linspace(min(withoutOutlierData.UnitsTotal),max(withoutOutlierData.UnitsTotal),10)\n",
    "#print type(x_axis)\n",
    "#Convertin the numpy.ndarray to pandas data frame to handle the error :::only integers, slices (`:`), ellipsis (`...`), numpy.newaxis (`None`) and integer or boolean arrays are valid indices\n",
    "x_axis = pd.DataFrame({'UnitsTotal':np.linspace(min(withoutOutlierData.UnitsTotal),max(withoutOutlierData.UnitsTotal),10)})\n",
    "print type(polModel2.predict(x_axis))\n",
    "pl.plot(x_axis, polModel2.predict(x_axis),c='g',label='Polynomial Reg curve')\n",
    "pl.title('Freequency of total rides vs the total units (OLS) Without Outliers')\n",
    "pl.ylabel('Freequency of Citibike Start Stations per zip')\n",
    "pl.xlabel('Number of Residence per zip')\n",
    "pl.legend()"
   ]
  },
  {
   "cell_type": "code",
   "execution_count": 71,
   "metadata": {
    "collapsed": false
   },
   "outputs": [
    {
     "name": "stdout",
     "output_type": "stream",
     "text": [
      "Second number is P-Value:  (2.4589474277070167, 0.11685706609895422, 1.0)\n",
      "LR :  2.45894742771\n",
      "Value of D : 4.96\n"
     ]
    }
   ],
   "source": [
    "###Applying Log likelihood test \n",
    "# I am using the log-likelihood ratio statistic to figure out which fit is better , simple linear regression of the polynomial fit \n",
    "# Null hypothesis: Simple Linear fit is better\n",
    "# Alternate hypothesis : Polynomial/quaderatic fit is better\n",
    "\n",
    "#Applying the log test using 3 methods. \n",
    "    #1) using standard compare_lr_tests\n",
    "    #2) doing mathematicaly \n",
    "    #3) manually putting values from the summary table\n",
    "# 1 method\n",
    "polModel2.compare_lr_test(linModel2) # p-value = 0.025977146651834981  \n",
    "print 'Second number is P-Value: ',polModel2.compare_lr_test(linModel2)\n",
    "# 2 method\n",
    "print \"LR : \", -2 * (linModel2.llf - (polModel2.llf))\n",
    "\n",
    "# 3 method Using standard formula(mentioned above)\n",
    "D = -2 * (-176.28) + 2 * (-173.80)\n",
    "print 'Value of D :',D"
   ]
  },
  {
   "cell_type": "markdown",
   "metadata": {},
   "source": [
    "##Inference of the values obtained in above step(Without Outlier).\n",
    "\n",
    "####Null hypothesis: Simple Linear fit is better ,   Alternate hypothesis : Polynomial/quaderatic fit is better\n",
    "\n",
    "####The value LR  needs to be compared with the critical value for chi2 with 1 degree of freedom at alpha = 0.05  and that value is 3.84\n",
    "\n",
    "####Null hypothesis is rejected if the LR> critical value(3.84)\n",
    "\n",
    "####In this case also the LR is greater than the critical value so we reject null hypothesis.\n",
    "\n",
    "###Hence Linear model  is not better than the Polynomial model .\n",
    "\n",
    "\n",
    "### Again Polynomial/quadratic model is better than Linear model without outliers\n"
   ]
  },
  {
   "cell_type": "markdown",
   "metadata": {},
   "source": [
    "****\n",
    "6) Discuss if the test could be improved: the number of residential units may be a good predictor under specific circumstances (restricting your dataset by any variable, eg only certain times, days, areas, what do you think?), and if you have time test these other hypothesis (for extra credit). Try and imagine what variable could be a better predictor (and if you have time test other vatiables also for extra credit).\n",
    "*****"
   ]
  },
  {
   "cell_type": "markdown",
   "metadata": {},
   "source": [
    "###Trying to improve test with changing the hypothesis.\n",
    "\n",
    "Assumption: 9 am to 6pm are office hours. \n",
    "So the better indicator for residential units will be if evaluated with the consideration of office hours(as no one will come back to residence for just using citibike(assumption!!)).\n",
    "Creating new data by removing the station id's when the start time lies in the office hour"
   ]
  },
  {
   "cell_type": "code",
   "execution_count": null,
   "metadata": {
    "collapsed": true
   },
   "outputs": [],
   "source": [
    "#Reading the citibike May 2015 csv data  with geopandas\n",
    "df1 = gp.GeoDataFrame.from_csv('201505-citibike-tripdata.csv',parse_dates=['starttime'])\n",
    "\n",
    "#Reading the citibike December 2015 csv data  with geopandas\n",
    "df2 = gp.GeoDataFrame.from_csv('201412-citibike-tripdata.csv',parse_dates=['starttime'])\n",
    "\n",
    "# Getting the counts and the freequeny in the variables\n",
    "citibikeMayCount = citibike_may_df[\"start station id\"].value_counts() #Returns object containing counts of unique values.\n",
    "citibikeMayCount = citibikeMayCount.reset_index() # new DataFrame with labeling information in the columns under the index names, defaulting to ‘level_0’, ‘level_1’, etc\n",
    "citibikeDecCount = citibike_dec_df[\"start station id\"].value_counts() #Same as citibikeMayCount\n",
    "citibikeDecCount = citibikeDecCount.reset_index() # Same as citibikeMayCount\n",
    "\n",
    "\n",
    "df1['stationD'] = df1['start station id'][(df1['usertype'] == 'Subscriber') & (df1['starttime'].dt.hour <18) & (df1['starttime'].dt.hour >9)]\n",
    "df2['stationN'] = df2['start station id'][(df2['usertype'] == 'Subscriber') & (df2['starttime'].dt.hour >=18) &(df2['starttime'].dt.hour >9)]\n",
    "df.ageN.describe()\n",
    "df.ageD.describe()"
   ]
  },
  {
   "cell_type": "code",
   "execution_count": null,
   "metadata": {
    "collapsed": true
   },
   "outputs": [],
   "source": [
    "# Getting the counts and the freequeny in the variables\n",
    "citibikeMayCount = df1[\"start station id\"].value_counts() #Returns object containing counts of unique values.\n",
    "citibikeMayCount = citibikeMayCount.reset_index() # new DataFrame with labeling information in the columns under the index names, defaulting to ‘level_0’, ‘level_1’, etc\n",
    "citibikeDecCount = df2[\"start station id\"].value_counts() #Same as citibikeMayCount\n",
    "citibikeDecCount = citibikeDecCount.reset_index() # Same as citibikeMayCount"
   ]
  }
 ],
 "metadata": {
  "kernelspec": {
   "display_name": "Python 2",
   "language": "python",
   "name": "python2"
  },
  "language_info": {
   "codemirror_mode": {
    "name": "ipython",
    "version": 2
   },
   "file_extension": ".py",
   "mimetype": "text/x-python",
   "name": "python",
   "nbconvert_exporter": "python",
   "pygments_lexer": "ipython2",
   "version": "2.7.10"
  }
 },
 "nbformat": 4,
 "nbformat_minor": 0
}
